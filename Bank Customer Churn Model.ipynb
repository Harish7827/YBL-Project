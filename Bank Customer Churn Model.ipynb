{
 "cells": [
  {
   "cell_type": "markdown",
   "id": "887af511",
   "metadata": {
    "id": "AqTfeydXob9_",
    "papermill": {
     "duration": 0.02816,
     "end_time": "2023-07-09T17:38:11.469416",
     "exception": false,
     "start_time": "2023-07-09T17:38:11.441256",
     "status": "completed"
    },
    "tags": []
   },
   "source": [
    "# <center> **BANK CUSTOMER  CHURN MODEL** </center> <br/> <div style = \"text-align:right\"> *Harish Chandra ...* </div>"
   ]
  },
  {
   "cell_type": "markdown",
   "id": "58f612d4",
   "metadata": {
    "id": "EMY3UoISp6uW",
    "papermill": {
     "duration": 0.025243,
     "end_time": "2023-07-09T17:38:11.521169",
     "exception": false,
     "start_time": "2023-07-09T17:38:11.495926",
     "status": "completed"
    },
    "tags": []
   },
   "source": [
    "**Objectives:**\n",
    "\n",
    "\n",
    "1.   Data Encoding\n",
    "2.   Feature Scaling\n",
    "3.   Handling Imbalance Data\n",
    "4.   Support Vector Machine Classifier\n",
    "5.   Grid Searchfor Hyperparameter Tunning\n",
    "\n"
   ]
  },
  {
   "cell_type": "code",
   "execution_count": 1,
   "id": "c286cc03",
   "metadata": {
    "execution": {
     "iopub.execute_input": "2023-07-09T17:38:11.577487Z",
     "iopub.status.busy": "2023-07-09T17:38:11.576294Z",
     "iopub.status.idle": "2023-07-09T17:38:11.588050Z",
     "shell.execute_reply": "2023-07-09T17:38:11.586804Z"
    },
    "id": "JzoSYminoVXG",
    "papermill": {
     "duration": 0.043361,
     "end_time": "2023-07-09T17:38:11.591257",
     "exception": false,
     "start_time": "2023-07-09T17:38:11.547896",
     "status": "completed"
    },
    "tags": []
   },
   "outputs": [],
   "source": [
    "import pandas as pd"
   ]
  },
  {
   "cell_type": "code",
   "execution_count": 2,
   "id": "cdf516bf",
   "metadata": {
    "execution": {
     "iopub.execute_input": "2023-07-09T17:38:11.646746Z",
     "iopub.status.busy": "2023-07-09T17:38:11.645585Z",
     "iopub.status.idle": "2023-07-09T17:38:11.650997Z",
     "shell.execute_reply": "2023-07-09T17:38:11.649445Z"
    },
    "id": "SBd1Jah-pQLq",
    "papermill": {
     "duration": 0.036097,
     "end_time": "2023-07-09T17:38:11.653775",
     "exception": false,
     "start_time": "2023-07-09T17:38:11.617678",
     "status": "completed"
    },
    "tags": []
   },
   "outputs": [],
   "source": [
    "import numpy as np\n"
   ]
  },
  {
   "cell_type": "code",
   "execution_count": 3,
   "id": "afe258c0",
   "metadata": {
    "execution": {
     "iopub.execute_input": "2023-07-09T17:38:11.709304Z",
     "iopub.status.busy": "2023-07-09T17:38:11.708192Z",
     "iopub.status.idle": "2023-07-09T17:38:11.713490Z",
     "shell.execute_reply": "2023-07-09T17:38:11.712695Z"
    },
    "id": "1Co6jgGopTC4",
    "papermill": {
     "duration": 0.034917,
     "end_time": "2023-07-09T17:38:11.715789",
     "exception": false,
     "start_time": "2023-07-09T17:38:11.680872",
     "status": "completed"
    },
    "tags": []
   },
   "outputs": [],
   "source": [
    "import matplotlib.pyplot as plt\n"
   ]
  },
  {
   "cell_type": "code",
   "execution_count": 4,
   "id": "7aed468d",
   "metadata": {
    "execution": {
     "iopub.execute_input": "2023-07-09T17:38:11.771642Z",
     "iopub.status.busy": "2023-07-09T17:38:11.771198Z",
     "iopub.status.idle": "2023-07-09T17:38:13.510826Z",
     "shell.execute_reply": "2023-07-09T17:38:13.509484Z"
    },
    "id": "8F99XYlnpavF",
    "papermill": {
     "duration": 1.770688,
     "end_time": "2023-07-09T17:38:13.514294",
     "exception": false,
     "start_time": "2023-07-09T17:38:11.743606",
     "status": "completed"
    },
    "tags": []
   },
   "outputs": [],
   "source": [
    "import seaborn as sns"
   ]
  },
  {
   "cell_type": "code",
   "execution_count": 5,
   "id": "30c10077",
   "metadata": {
    "execution": {
     "iopub.execute_input": "2023-07-09T17:38:13.577708Z",
     "iopub.status.busy": "2023-07-09T17:38:13.577120Z",
     "iopub.status.idle": "2023-07-09T17:38:14.170905Z",
     "shell.execute_reply": "2023-07-09T17:38:14.169699Z"
    },
    "id": "z2eXvQaYp61p",
    "papermill": {
     "duration": 0.628636,
     "end_time": "2023-07-09T17:38:14.173858",
     "exception": false,
     "start_time": "2023-07-09T17:38:13.545222",
     "status": "completed"
    },
    "tags": []
   },
   "outputs": [],
   "source": [
    "bccm = pd.read_csv(\"Bank Churn Modelling.csv\")"
   ]
  },
  {
   "cell_type": "code",
   "execution_count": 6,
   "id": "b960dc2b",
   "metadata": {
    "execution": {
     "iopub.execute_input": "2023-07-09T17:38:14.232237Z",
     "iopub.status.busy": "2023-07-09T17:38:14.231811Z",
     "iopub.status.idle": "2023-07-09T17:38:14.271938Z",
     "shell.execute_reply": "2023-07-09T17:38:14.270734Z"
    },
    "id": "G393ZPGOrT2H",
    "outputId": "a5bcdfdc-9e2f-4bcf-96bc-5b6f92461b0f",
    "papermill": {
     "duration": 0.073477,
     "end_time": "2023-07-09T17:38:14.274940",
     "exception": false,
     "start_time": "2023-07-09T17:38:14.201463",
     "status": "completed"
    },
    "tags": []
   },
   "outputs": [
    {
     "data": {
      "text/html": [
       "<div>\n",
       "<style scoped>\n",
       "    .dataframe tbody tr th:only-of-type {\n",
       "        vertical-align: middle;\n",
       "    }\n",
       "\n",
       "    .dataframe tbody tr th {\n",
       "        vertical-align: top;\n",
       "    }\n",
       "\n",
       "    .dataframe thead th {\n",
       "        text-align: right;\n",
       "    }\n",
       "</style>\n",
       "<table border=\"1\" class=\"dataframe\">\n",
       "  <thead>\n",
       "    <tr style=\"text-align: right;\">\n",
       "      <th></th>\n",
       "      <th>CustomerId</th>\n",
       "      <th>Surname</th>\n",
       "      <th>CreditScore</th>\n",
       "      <th>Geography</th>\n",
       "      <th>Gender</th>\n",
       "      <th>Age</th>\n",
       "      <th>Tenure</th>\n",
       "      <th>Balance</th>\n",
       "      <th>Num Of Products</th>\n",
       "      <th>Has Credit Card</th>\n",
       "      <th>Is Active Member</th>\n",
       "      <th>Estimated Salary</th>\n",
       "      <th>Churn</th>\n",
       "    </tr>\n",
       "  </thead>\n",
       "  <tbody>\n",
       "    <tr>\n",
       "      <th>0</th>\n",
       "      <td>15634602</td>\n",
       "      <td>Hargrave</td>\n",
       "      <td>619</td>\n",
       "      <td>France</td>\n",
       "      <td>Female</td>\n",
       "      <td>42</td>\n",
       "      <td>2</td>\n",
       "      <td>0.00</td>\n",
       "      <td>1</td>\n",
       "      <td>1</td>\n",
       "      <td>1</td>\n",
       "      <td>101348.88</td>\n",
       "      <td>1</td>\n",
       "    </tr>\n",
       "    <tr>\n",
       "      <th>1</th>\n",
       "      <td>15647311</td>\n",
       "      <td>Hill</td>\n",
       "      <td>608</td>\n",
       "      <td>Spain</td>\n",
       "      <td>Female</td>\n",
       "      <td>41</td>\n",
       "      <td>1</td>\n",
       "      <td>83807.86</td>\n",
       "      <td>1</td>\n",
       "      <td>0</td>\n",
       "      <td>1</td>\n",
       "      <td>112542.58</td>\n",
       "      <td>0</td>\n",
       "    </tr>\n",
       "    <tr>\n",
       "      <th>2</th>\n",
       "      <td>15619304</td>\n",
       "      <td>Onio</td>\n",
       "      <td>502</td>\n",
       "      <td>France</td>\n",
       "      <td>Female</td>\n",
       "      <td>42</td>\n",
       "      <td>8</td>\n",
       "      <td>159660.80</td>\n",
       "      <td>3</td>\n",
       "      <td>1</td>\n",
       "      <td>0</td>\n",
       "      <td>113931.57</td>\n",
       "      <td>1</td>\n",
       "    </tr>\n",
       "    <tr>\n",
       "      <th>3</th>\n",
       "      <td>15701354</td>\n",
       "      <td>Boni</td>\n",
       "      <td>699</td>\n",
       "      <td>France</td>\n",
       "      <td>Female</td>\n",
       "      <td>39</td>\n",
       "      <td>1</td>\n",
       "      <td>0.00</td>\n",
       "      <td>2</td>\n",
       "      <td>0</td>\n",
       "      <td>0</td>\n",
       "      <td>93826.63</td>\n",
       "      <td>0</td>\n",
       "    </tr>\n",
       "    <tr>\n",
       "      <th>4</th>\n",
       "      <td>15737888</td>\n",
       "      <td>Mitchell</td>\n",
       "      <td>850</td>\n",
       "      <td>Spain</td>\n",
       "      <td>Female</td>\n",
       "      <td>43</td>\n",
       "      <td>2</td>\n",
       "      <td>125510.82</td>\n",
       "      <td>1</td>\n",
       "      <td>1</td>\n",
       "      <td>1</td>\n",
       "      <td>79084.10</td>\n",
       "      <td>0</td>\n",
       "    </tr>\n",
       "  </tbody>\n",
       "</table>\n",
       "</div>"
      ],
      "text/plain": [
       "   CustomerId   Surname  CreditScore Geography  Gender  Age  Tenure   \n",
       "0    15634602  Hargrave          619    France  Female   42       2  \\\n",
       "1    15647311      Hill          608     Spain  Female   41       1   \n",
       "2    15619304      Onio          502    France  Female   42       8   \n",
       "3    15701354      Boni          699    France  Female   39       1   \n",
       "4    15737888  Mitchell          850     Spain  Female   43       2   \n",
       "\n",
       "     Balance  Num Of Products  Has Credit Card  Is Active Member   \n",
       "0       0.00                1                1                 1  \\\n",
       "1   83807.86                1                0                 1   \n",
       "2  159660.80                3                1                 0   \n",
       "3       0.00                2                0                 0   \n",
       "4  125510.82                1                1                 1   \n",
       "\n",
       "   Estimated Salary  Churn  \n",
       "0         101348.88      1  \n",
       "1         112542.58      0  \n",
       "2         113931.57      1  \n",
       "3          93826.63      0  \n",
       "4          79084.10      0  "
      ]
     },
     "execution_count": 6,
     "metadata": {},
     "output_type": "execute_result"
    }
   ],
   "source": [
    "bccm.head()"
   ]
  },
  {
   "cell_type": "code",
   "execution_count": 7,
   "id": "2162feb2",
   "metadata": {
    "execution": {
     "iopub.execute_input": "2023-07-09T17:38:14.332227Z",
     "iopub.status.busy": "2023-07-09T17:38:14.331778Z",
     "iopub.status.idle": "2023-07-09T17:38:14.372252Z",
     "shell.execute_reply": "2023-07-09T17:38:14.370806Z"
    },
    "id": "6yVHMai-rWUc",
    "outputId": "7b41a83c-1631-4943-a978-9a9bf9055700",
    "papermill": {
     "duration": 0.072087,
     "end_time": "2023-07-09T17:38:14.375031",
     "exception": false,
     "start_time": "2023-07-09T17:38:14.302944",
     "status": "completed"
    },
    "tags": []
   },
   "outputs": [
    {
     "name": "stdout",
     "output_type": "stream",
     "text": [
      "<class 'pandas.core.frame.DataFrame'>\n",
      "RangeIndex: 10000 entries, 0 to 9999\n",
      "Data columns (total 13 columns):\n",
      " #   Column            Non-Null Count  Dtype  \n",
      "---  ------            --------------  -----  \n",
      " 0   CustomerId        10000 non-null  int64  \n",
      " 1   Surname           10000 non-null  object \n",
      " 2   CreditScore       10000 non-null  int64  \n",
      " 3   Geography         10000 non-null  object \n",
      " 4   Gender            10000 non-null  object \n",
      " 5   Age               10000 non-null  int64  \n",
      " 6   Tenure            10000 non-null  int64  \n",
      " 7   Balance           10000 non-null  float64\n",
      " 8   Num Of Products   10000 non-null  int64  \n",
      " 9   Has Credit Card   10000 non-null  int64  \n",
      " 10  Is Active Member  10000 non-null  int64  \n",
      " 11  Estimated Salary  10000 non-null  float64\n",
      " 12  Churn             10000 non-null  int64  \n",
      "dtypes: float64(2), int64(8), object(3)\n",
      "memory usage: 1015.8+ KB\n"
     ]
    }
   ],
   "source": [
    "bccm.info()"
   ]
  },
  {
   "cell_type": "code",
   "execution_count": 8,
   "id": "a92757f8",
   "metadata": {
    "execution": {
     "iopub.execute_input": "2023-07-09T17:38:14.431503Z",
     "iopub.status.busy": "2023-07-09T17:38:14.431098Z",
     "iopub.status.idle": "2023-07-09T17:38:14.449901Z",
     "shell.execute_reply": "2023-07-09T17:38:14.448589Z"
    },
    "id": "dP4Km4EDrilE",
    "outputId": "fa0d5b0c-0d83-49d6-c28d-c3c1849c49e5",
    "papermill": {
     "duration": 0.050069,
     "end_time": "2023-07-09T17:38:14.452505",
     "exception": false,
     "start_time": "2023-07-09T17:38:14.402436",
     "status": "completed"
    },
    "tags": []
   },
   "outputs": [
    {
     "data": {
      "text/plain": [
       "<bound method NDFrame.describe of       CustomerId    Surname  CreditScore Geography  Gender  Age  Tenure   \n",
       "0       15634602   Hargrave          619    France  Female   42       2  \\\n",
       "1       15647311       Hill          608     Spain  Female   41       1   \n",
       "2       15619304       Onio          502    France  Female   42       8   \n",
       "3       15701354       Boni          699    France  Female   39       1   \n",
       "4       15737888   Mitchell          850     Spain  Female   43       2   \n",
       "...          ...        ...          ...       ...     ...  ...     ...   \n",
       "9995    15606229   Obijiaku          771    France    Male   39       5   \n",
       "9996    15569892  Johnstone          516    France    Male   35      10   \n",
       "9997    15584532        Liu          709    France  Female   36       7   \n",
       "9998    15682355  Sabbatini          772   Germany    Male   42       3   \n",
       "9999    15628319     Walker          792    France  Female   28       4   \n",
       "\n",
       "        Balance  Num Of Products  Has Credit Card  Is Active Member   \n",
       "0          0.00                1                1                 1  \\\n",
       "1      83807.86                1                0                 1   \n",
       "2     159660.80                3                1                 0   \n",
       "3          0.00                2                0                 0   \n",
       "4     125510.82                1                1                 1   \n",
       "...         ...              ...              ...               ...   \n",
       "9995       0.00                2                1                 0   \n",
       "9996   57369.61                1                1                 1   \n",
       "9997       0.00                1                0                 1   \n",
       "9998   75075.31                2                1                 0   \n",
       "9999  130142.79                1                1                 0   \n",
       "\n",
       "      Estimated Salary  Churn  \n",
       "0            101348.88      1  \n",
       "1            112542.58      0  \n",
       "2            113931.57      1  \n",
       "3             93826.63      0  \n",
       "4             79084.10      0  \n",
       "...                ...    ...  \n",
       "9995          96270.64      0  \n",
       "9996         101699.77      0  \n",
       "9997          42085.58      1  \n",
       "9998          92888.52      1  \n",
       "9999          38190.78      0  \n",
       "\n",
       "[10000 rows x 13 columns]>"
      ]
     },
     "execution_count": 8,
     "metadata": {},
     "output_type": "execute_result"
    }
   ],
   "source": [
    "bccm.describe"
   ]
  },
  {
   "cell_type": "code",
   "execution_count": 9,
   "id": "e833c693",
   "metadata": {
    "execution": {
     "iopub.execute_input": "2023-07-09T17:38:14.510467Z",
     "iopub.status.busy": "2023-07-09T17:38:14.510083Z",
     "iopub.status.idle": "2023-07-09T17:38:14.520356Z",
     "shell.execute_reply": "2023-07-09T17:38:14.519186Z"
    },
    "id": "iLdbIKGdrjq_",
    "outputId": "4fdbb3c0-ddf3-40b8-fb9f-8d6a38f3154f",
    "papermill": {
     "duration": 0.041519,
     "end_time": "2023-07-09T17:38:14.522921",
     "exception": false,
     "start_time": "2023-07-09T17:38:14.481402",
     "status": "completed"
    },
    "tags": []
   },
   "outputs": [
    {
     "data": {
      "text/plain": [
       "0"
      ]
     },
     "execution_count": 9,
     "metadata": {},
     "output_type": "execute_result"
    }
   ],
   "source": [
    "bccm.duplicated('CustomerId').sum()"
   ]
  },
  {
   "cell_type": "code",
   "execution_count": 10,
   "id": "f9c72969",
   "metadata": {
    "execution": {
     "iopub.execute_input": "2023-07-09T17:38:14.582487Z",
     "iopub.status.busy": "2023-07-09T17:38:14.582042Z",
     "iopub.status.idle": "2023-07-09T17:38:14.606498Z",
     "shell.execute_reply": "2023-07-09T17:38:14.604780Z"
    },
    "id": "pYnT_co8r9CH",
    "outputId": "0fae84d6-3984-4bdd-c982-709a2b2b277b",
    "papermill": {
     "duration": 0.058673,
     "end_time": "2023-07-09T17:38:14.609508",
     "exception": false,
     "start_time": "2023-07-09T17:38:14.550835",
     "status": "completed"
    },
    "tags": []
   },
   "outputs": [
    {
     "name": "stdout",
     "output_type": "stream",
     "text": [
      "<class 'pandas.core.frame.DataFrame'>\n",
      "RangeIndex: 10000 entries, 0 to 9999\n",
      "Data columns (total 13 columns):\n",
      " #   Column            Non-Null Count  Dtype  \n",
      "---  ------            --------------  -----  \n",
      " 0   CustomerId        10000 non-null  int64  \n",
      " 1   Surname           10000 non-null  object \n",
      " 2   CreditScore       10000 non-null  int64  \n",
      " 3   Geography         10000 non-null  object \n",
      " 4   Gender            10000 non-null  object \n",
      " 5   Age               10000 non-null  int64  \n",
      " 6   Tenure            10000 non-null  int64  \n",
      " 7   Balance           10000 non-null  float64\n",
      " 8   Num Of Products   10000 non-null  int64  \n",
      " 9   Has Credit Card   10000 non-null  int64  \n",
      " 10  Is Active Member  10000 non-null  int64  \n",
      " 11  Estimated Salary  10000 non-null  float64\n",
      " 12  Churn             10000 non-null  int64  \n",
      "dtypes: float64(2), int64(8), object(3)\n",
      "memory usage: 1015.8+ KB\n"
     ]
    }
   ],
   "source": [
    "bccm.info()"
   ]
  },
  {
   "cell_type": "markdown",
   "id": "63012705",
   "metadata": {
    "id": "gZwqCTpWtzuB",
    "papermill": {
     "duration": 0.028118,
     "end_time": "2023-07-09T17:38:14.668091",
     "exception": false,
     "start_time": "2023-07-09T17:38:14.639973",
     "status": "completed"
    },
    "tags": []
   },
   "source": [
    "**Encoding**"
   ]
  },
  {
   "cell_type": "code",
   "execution_count": 11,
   "id": "e70eacbc",
   "metadata": {
    "execution": {
     "iopub.execute_input": "2023-07-09T17:38:14.726590Z",
     "iopub.status.busy": "2023-07-09T17:38:14.726161Z",
     "iopub.status.idle": "2023-07-09T17:38:14.737265Z",
     "shell.execute_reply": "2023-07-09T17:38:14.736159Z"
    },
    "id": "PJyL708Atoxx",
    "outputId": "baf1b349-1ff9-4e5d-aef0-218a59e62bad",
    "papermill": {
     "duration": 0.043466,
     "end_time": "2023-07-09T17:38:14.739639",
     "exception": false,
     "start_time": "2023-07-09T17:38:14.696173",
     "status": "completed"
    },
    "tags": []
   },
   "outputs": [
    {
     "data": {
      "text/plain": [
       "Geography\n",
       "France     5014\n",
       "Germany    2509\n",
       "Spain      2477\n",
       "Name: count, dtype: int64"
      ]
     },
     "execution_count": 11,
     "metadata": {},
     "output_type": "execute_result"
    }
   ],
   "source": [
    "bccm['Geography'].value_counts()"
   ]
  },
  {
   "cell_type": "code",
   "execution_count": 12,
   "id": "c95eb283",
   "metadata": {
    "execution": {
     "iopub.execute_input": "2023-07-09T17:38:14.798479Z",
     "iopub.status.busy": "2023-07-09T17:38:14.797987Z",
     "iopub.status.idle": "2023-07-09T17:38:14.814942Z",
     "shell.execute_reply": "2023-07-09T17:38:14.813858Z"
    },
    "id": "5ZfDnyCOvBjW",
    "papermill": {
     "duration": 0.048938,
     "end_time": "2023-07-09T17:38:14.817707",
     "exception": false,
     "start_time": "2023-07-09T17:38:14.768769",
     "status": "completed"
    },
    "tags": []
   },
   "outputs": [],
   "source": [
    "bccm.replace({'Geography': {'France': 2, 'Germany':1, 'Spain':0}}, inplace=True)"
   ]
  },
  {
   "cell_type": "code",
   "execution_count": 13,
   "id": "92a9fd76",
   "metadata": {
    "execution": {
     "iopub.execute_input": "2023-07-09T17:38:14.876522Z",
     "iopub.status.busy": "2023-07-09T17:38:14.875983Z",
     "iopub.status.idle": "2023-07-09T17:38:14.887330Z",
     "shell.execute_reply": "2023-07-09T17:38:14.886047Z"
    },
    "id": "XihasWNBvokO",
    "outputId": "b2dfb082-930d-458a-ae20-d8c10ebdc08b",
    "papermill": {
     "duration": 0.043907,
     "end_time": "2023-07-09T17:38:14.889939",
     "exception": false,
     "start_time": "2023-07-09T17:38:14.846032",
     "status": "completed"
    },
    "tags": []
   },
   "outputs": [
    {
     "data": {
      "text/plain": [
       "Gender\n",
       "Male      5457\n",
       "Female    4543\n",
       "Name: count, dtype: int64"
      ]
     },
     "execution_count": 13,
     "metadata": {},
     "output_type": "execute_result"
    }
   ],
   "source": [
    "bccm['Gender'].value_counts()"
   ]
  },
  {
   "cell_type": "code",
   "execution_count": 14,
   "id": "e7ca2547",
   "metadata": {
    "execution": {
     "iopub.execute_input": "2023-07-09T17:38:14.948593Z",
     "iopub.status.busy": "2023-07-09T17:38:14.948148Z",
     "iopub.status.idle": "2023-07-09T17:38:14.963403Z",
     "shell.execute_reply": "2023-07-09T17:38:14.961970Z"
    },
    "id": "k2JhG_4BvzOZ",
    "papermill": {
     "duration": 0.047966,
     "end_time": "2023-07-09T17:38:14.966310",
     "exception": false,
     "start_time": "2023-07-09T17:38:14.918344",
     "status": "completed"
    },
    "tags": []
   },
   "outputs": [],
   "source": [
    "bccm.replace({'Gender': {'Male':0, 'Female':2, }}, inplace=True)"
   ]
  },
  {
   "cell_type": "code",
   "execution_count": 15,
   "id": "c621ab11",
   "metadata": {
    "execution": {
     "iopub.execute_input": "2023-07-09T17:38:15.027105Z",
     "iopub.status.busy": "2023-07-09T17:38:15.026605Z",
     "iopub.status.idle": "2023-07-09T17:38:15.036137Z",
     "shell.execute_reply": "2023-07-09T17:38:15.034984Z"
    },
    "id": "H0zHuPABwVGv",
    "outputId": "9c072f84-e58d-42ae-d21b-0a986d8e8e53",
    "papermill": {
     "duration": 0.043271,
     "end_time": "2023-07-09T17:38:15.038757",
     "exception": false,
     "start_time": "2023-07-09T17:38:14.995486",
     "status": "completed"
    },
    "tags": []
   },
   "outputs": [
    {
     "data": {
      "text/plain": [
       "Gender\n",
       "0    5457\n",
       "2    4543\n",
       "Name: count, dtype: int64"
      ]
     },
     "execution_count": 15,
     "metadata": {},
     "output_type": "execute_result"
    }
   ],
   "source": [
    "bccm['Gender'].value_counts()"
   ]
  },
  {
   "cell_type": "code",
   "execution_count": 16,
   "id": "6810f238",
   "metadata": {
    "execution": {
     "iopub.execute_input": "2023-07-09T17:38:15.097875Z",
     "iopub.status.busy": "2023-07-09T17:38:15.097070Z",
     "iopub.status.idle": "2023-07-09T17:38:15.106554Z",
     "shell.execute_reply": "2023-07-09T17:38:15.105328Z"
    },
    "id": "7JpfogWkwdcx",
    "outputId": "71380c26-aef1-4f6e-e010-af9f2f8a3328",
    "papermill": {
     "duration": 0.042161,
     "end_time": "2023-07-09T17:38:15.109156",
     "exception": false,
     "start_time": "2023-07-09T17:38:15.066995",
     "status": "completed"
    },
    "tags": []
   },
   "outputs": [
    {
     "data": {
      "text/plain": [
       "Num Of Products\n",
       "1    5084\n",
       "2    4590\n",
       "3     266\n",
       "4      60\n",
       "Name: count, dtype: int64"
      ]
     },
     "execution_count": 16,
     "metadata": {},
     "output_type": "execute_result"
    }
   ],
   "source": [
    "bccm['Num Of Products'].value_counts()"
   ]
  },
  {
   "cell_type": "code",
   "execution_count": 17,
   "id": "4ab7968e",
   "metadata": {
    "execution": {
     "iopub.execute_input": "2023-07-09T17:38:15.169155Z",
     "iopub.status.busy": "2023-07-09T17:38:15.168718Z",
     "iopub.status.idle": "2023-07-09T17:38:15.178437Z",
     "shell.execute_reply": "2023-07-09T17:38:15.177247Z"
    },
    "id": "Ab2adQ6Mwy-E",
    "papermill": {
     "duration": 0.042863,
     "end_time": "2023-07-09T17:38:15.181127",
     "exception": false,
     "start_time": "2023-07-09T17:38:15.138264",
     "status": "completed"
    },
    "tags": []
   },
   "outputs": [],
   "source": [
    "bccm.replace({'Num Of Products': {1:0, 2:1, 3:1, 4:1}}, inplace=True)"
   ]
  },
  {
   "cell_type": "code",
   "execution_count": 18,
   "id": "c1ec0c4c",
   "metadata": {
    "execution": {
     "iopub.execute_input": "2023-07-09T17:38:15.243151Z",
     "iopub.status.busy": "2023-07-09T17:38:15.242689Z",
     "iopub.status.idle": "2023-07-09T17:38:15.251598Z",
     "shell.execute_reply": "2023-07-09T17:38:15.250401Z"
    },
    "id": "-hpHsb3ixSjs",
    "outputId": "ad90f581-b412-45f4-d3b8-f4fa779cdc0d",
    "papermill": {
     "duration": 0.042906,
     "end_time": "2023-07-09T17:38:15.253937",
     "exception": false,
     "start_time": "2023-07-09T17:38:15.211031",
     "status": "completed"
    },
    "tags": []
   },
   "outputs": [
    {
     "data": {
      "text/plain": [
       "Has Credit Card\n",
       "1    7055\n",
       "0    2945\n",
       "Name: count, dtype: int64"
      ]
     },
     "execution_count": 18,
     "metadata": {},
     "output_type": "execute_result"
    }
   ],
   "source": [
    "bccm['Has Credit Card'].value_counts()"
   ]
  },
  {
   "cell_type": "code",
   "execution_count": 19,
   "id": "0cf8dbeb",
   "metadata": {
    "execution": {
     "iopub.execute_input": "2023-07-09T17:38:15.314303Z",
     "iopub.status.busy": "2023-07-09T17:38:15.313579Z",
     "iopub.status.idle": "2023-07-09T17:38:15.322011Z",
     "shell.execute_reply": "2023-07-09T17:38:15.320836Z"
    },
    "id": "vcs2_idyxaeX",
    "outputId": "8824a5ab-99a0-4f32-aac9-da14a861198f",
    "papermill": {
     "duration": 0.041328,
     "end_time": "2023-07-09T17:38:15.324688",
     "exception": false,
     "start_time": "2023-07-09T17:38:15.283360",
     "status": "completed"
    },
    "tags": []
   },
   "outputs": [
    {
     "data": {
      "text/plain": [
       "Is Active Member\n",
       "1    5151\n",
       "0    4849\n",
       "Name: count, dtype: int64"
      ]
     },
     "execution_count": 19,
     "metadata": {},
     "output_type": "execute_result"
    }
   ],
   "source": [
    "bccm['Is Active Member'].value_counts()"
   ]
  },
  {
   "cell_type": "code",
   "execution_count": 20,
   "id": "40338071",
   "metadata": {
    "execution": {
     "iopub.execute_input": "2023-07-09T17:38:15.389897Z",
     "iopub.status.busy": "2023-07-09T17:38:15.389015Z",
     "iopub.status.idle": "2023-07-09T17:38:15.399273Z",
     "shell.execute_reply": "2023-07-09T17:38:15.398086Z"
    },
    "id": "ArziTHxpxhMf",
    "outputId": "6726febc-1ad1-41cb-eabf-2a77877e2c1b",
    "papermill": {
     "duration": 0.044556,
     "end_time": "2023-07-09T17:38:15.401895",
     "exception": false,
     "start_time": "2023-07-09T17:38:15.357339",
     "status": "completed"
    },
    "tags": []
   },
   "outputs": [
    {
     "data": {
      "text/plain": [
       "Churn\n",
       "0    3117\n",
       "1     500\n",
       "Name: count, dtype: int64"
      ]
     },
     "execution_count": 20,
     "metadata": {},
     "output_type": "execute_result"
    }
   ],
   "source": [
    "bccm.loc[(bccm['Balance']==0), 'Churn'].value_counts()"
   ]
  },
  {
   "cell_type": "code",
   "execution_count": 21,
   "id": "c5fc118d",
   "metadata": {
    "execution": {
     "iopub.execute_input": "2023-07-09T17:38:15.463155Z",
     "iopub.status.busy": "2023-07-09T17:38:15.462017Z",
     "iopub.status.idle": "2023-07-09T17:38:15.469234Z",
     "shell.execute_reply": "2023-07-09T17:38:15.468063Z"
    },
    "id": "SKqR5BF-yTLu",
    "papermill": {
     "duration": 0.040925,
     "end_time": "2023-07-09T17:38:15.471923",
     "exception": false,
     "start_time": "2023-07-09T17:38:15.430998",
     "status": "completed"
    },
    "tags": []
   },
   "outputs": [],
   "source": [
    "bccm['Zero Balance'] = np.where(bccm['Balance']>0, 1,0)"
   ]
  },
  {
   "cell_type": "code",
   "execution_count": 22,
   "id": "ab0cacac",
   "metadata": {
    "execution": {
     "iopub.execute_input": "2023-07-09T17:38:15.534039Z",
     "iopub.status.busy": "2023-07-09T17:38:15.533611Z",
     "iopub.status.idle": "2023-07-09T17:38:15.940519Z",
     "shell.execute_reply": "2023-07-09T17:38:15.939340Z"
    },
    "id": "BZH6OOCwy57b",
    "outputId": "ee443588-1321-48cd-b3a5-e53f744eb5b9",
    "papermill": {
     "duration": 0.442465,
     "end_time": "2023-07-09T17:38:15.943717",
     "exception": false,
     "start_time": "2023-07-09T17:38:15.501252",
     "status": "completed"
    },
    "tags": []
   },
   "outputs": [
    {
     "data": {
      "text/plain": [
       "<Axes: >"
      ]
     },
     "execution_count": 22,
     "metadata": {},
     "output_type": "execute_result"
    },
    {
     "data": {
      "image/png": "[encoded data removed]",
      "text/plain": [
       "<Figure size 640x480 with 1 Axes>"
      ]
     },
     "metadata": {},
     "output_type": "display_data"
    }
   ],
   "source": [
    "bccm['Zero Balance'].hist()"
   ]
  },
  {
   "cell_type": "code",
   "execution_count": 23,
   "id": "4287236c",
   "metadata": {
    "execution": {
     "iopub.execute_input": "2023-07-09T17:38:16.007587Z",
     "iopub.status.busy": "2023-07-09T17:38:16.006407Z",
     "iopub.status.idle": "2023-07-09T17:38:16.032814Z",
     "shell.execute_reply": "2023-07-09T17:38:16.031612Z"
    },
    "id": "iCQctuF_zDXL",
    "outputId": "560dacfe-c1f8-4e19-fcd5-7a01db4e5532",
    "papermill": {
     "duration": 0.06069,
     "end_time": "2023-07-09T17:38:16.035579",
     "exception": false,
     "start_time": "2023-07-09T17:38:15.974889",
     "status": "completed"
    },
    "tags": []
   },
   "outputs": [
    {
     "data": {
      "text/html": [
       "<div>\n",
       "<style scoped>\n",
       "    .dataframe tbody tr th:only-of-type {\n",
       "        vertical-align: middle;\n",
       "    }\n",
       "\n",
       "    .dataframe tbody tr th {\n",
       "        vertical-align: top;\n",
       "    }\n",
       "\n",
       "    .dataframe thead th {\n",
       "        text-align: right;\n",
       "    }\n",
       "</style>\n",
       "<table border=\"1\" class=\"dataframe\">\n",
       "  <thead>\n",
       "    <tr style=\"text-align: right;\">\n",
       "      <th></th>\n",
       "      <th></th>\n",
       "      <th>CustomerId</th>\n",
       "      <th>Surname</th>\n",
       "      <th>CreditScore</th>\n",
       "      <th>Gender</th>\n",
       "      <th>Age</th>\n",
       "      <th>Tenure</th>\n",
       "      <th>Balance</th>\n",
       "      <th>Num Of Products</th>\n",
       "      <th>Has Credit Card</th>\n",
       "      <th>Is Active Member</th>\n",
       "      <th>Estimated Salary</th>\n",
       "      <th>Zero Balance</th>\n",
       "    </tr>\n",
       "    <tr>\n",
       "      <th>Churn</th>\n",
       "      <th>Geography</th>\n",
       "      <th></th>\n",
       "      <th></th>\n",
       "      <th></th>\n",
       "      <th></th>\n",
       "      <th></th>\n",
       "      <th></th>\n",
       "      <th></th>\n",
       "      <th></th>\n",
       "      <th></th>\n",
       "      <th></th>\n",
       "      <th></th>\n",
       "      <th></th>\n",
       "    </tr>\n",
       "  </thead>\n",
       "  <tbody>\n",
       "    <tr>\n",
       "      <th rowspan=\"3\" valign=\"top\">0</th>\n",
       "      <th>0</th>\n",
       "      <td>2064</td>\n",
       "      <td>2064</td>\n",
       "      <td>2064</td>\n",
       "      <td>2064</td>\n",
       "      <td>2064</td>\n",
       "      <td>2064</td>\n",
       "      <td>2064</td>\n",
       "      <td>2064</td>\n",
       "      <td>2064</td>\n",
       "      <td>2064</td>\n",
       "      <td>2064</td>\n",
       "      <td>2064</td>\n",
       "    </tr>\n",
       "    <tr>\n",
       "      <th>1</th>\n",
       "      <td>1695</td>\n",
       "      <td>1695</td>\n",
       "      <td>1695</td>\n",
       "      <td>1695</td>\n",
       "      <td>1695</td>\n",
       "      <td>1695</td>\n",
       "      <td>1695</td>\n",
       "      <td>1695</td>\n",
       "      <td>1695</td>\n",
       "      <td>1695</td>\n",
       "      <td>1695</td>\n",
       "      <td>1695</td>\n",
       "    </tr>\n",
       "    <tr>\n",
       "      <th>2</th>\n",
       "      <td>4204</td>\n",
       "      <td>4204</td>\n",
       "      <td>4204</td>\n",
       "      <td>4204</td>\n",
       "      <td>4204</td>\n",
       "      <td>4204</td>\n",
       "      <td>4204</td>\n",
       "      <td>4204</td>\n",
       "      <td>4204</td>\n",
       "      <td>4204</td>\n",
       "      <td>4204</td>\n",
       "      <td>4204</td>\n",
       "    </tr>\n",
       "    <tr>\n",
       "      <th rowspan=\"3\" valign=\"top\">1</th>\n",
       "      <th>0</th>\n",
       "      <td>413</td>\n",
       "      <td>413</td>\n",
       "      <td>413</td>\n",
       "      <td>413</td>\n",
       "      <td>413</td>\n",
       "      <td>413</td>\n",
       "      <td>413</td>\n",
       "      <td>413</td>\n",
       "      <td>413</td>\n",
       "      <td>413</td>\n",
       "      <td>413</td>\n",
       "      <td>413</td>\n",
       "    </tr>\n",
       "    <tr>\n",
       "      <th>1</th>\n",
       "      <td>814</td>\n",
       "      <td>814</td>\n",
       "      <td>814</td>\n",
       "      <td>814</td>\n",
       "      <td>814</td>\n",
       "      <td>814</td>\n",
       "      <td>814</td>\n",
       "      <td>814</td>\n",
       "      <td>814</td>\n",
       "      <td>814</td>\n",
       "      <td>814</td>\n",
       "      <td>814</td>\n",
       "    </tr>\n",
       "    <tr>\n",
       "      <th>2</th>\n",
       "      <td>810</td>\n",
       "      <td>810</td>\n",
       "      <td>810</td>\n",
       "      <td>810</td>\n",
       "      <td>810</td>\n",
       "      <td>810</td>\n",
       "      <td>810</td>\n",
       "      <td>810</td>\n",
       "      <td>810</td>\n",
       "      <td>810</td>\n",
       "      <td>810</td>\n",
       "      <td>810</td>\n",
       "    </tr>\n",
       "  </tbody>\n",
       "</table>\n",
       "</div>"
      ],
      "text/plain": [
       "                 CustomerId  Surname  CreditScore  Gender   Age  Tenure   \n",
       "Churn Geography                                                           \n",
       "0     0                2064     2064         2064    2064  2064    2064  \\\n",
       "      1                1695     1695         1695    1695  1695    1695   \n",
       "      2                4204     4204         4204    4204  4204    4204   \n",
       "1     0                 413      413          413     413   413     413   \n",
       "      1                 814      814          814     814   814     814   \n",
       "      2                 810      810          810     810   810     810   \n",
       "\n",
       "                 Balance  Num Of Products  Has Credit Card  Is Active Member   \n",
       "Churn Geography                                                                \n",
       "0     0             2064             2064             2064              2064  \\\n",
       "      1             1695             1695             1695              1695   \n",
       "      2             4204             4204             4204              4204   \n",
       "1     0              413              413              413               413   \n",
       "      1              814              814              814               814   \n",
       "      2              810              810              810               810   \n",
       "\n",
       "                 Estimated Salary  Zero Balance  \n",
       "Churn Geography                                  \n",
       "0     0                      2064          2064  \n",
       "      1                      1695          1695  \n",
       "      2                      4204          4204  \n",
       "1     0                       413           413  \n",
       "      1                       814           814  \n",
       "      2                       810           810  "
      ]
     },
     "execution_count": 23,
     "metadata": {},
     "output_type": "execute_result"
    }
   ],
   "source": [
    "bccm.groupby(['Churn', 'Geography']).count()"
   ]
  },
  {
   "cell_type": "markdown",
   "id": "f03e78b9",
   "metadata": {
    "id": "15VOHQbCz-Kl",
    "papermill": {
     "duration": 0.030082,
     "end_time": "2023-07-09T17:38:16.095890",
     "exception": false,
     "start_time": "2023-07-09T17:38:16.065808",
     "status": "completed"
    },
    "tags": []
   },
   "source": [
    "**Define Labels and Features**"
   ]
  },
  {
   "cell_type": "code",
   "execution_count": 24,
   "id": "d2d051b9",
   "metadata": {
    "execution": {
     "iopub.execute_input": "2023-07-09T17:38:16.159741Z",
     "iopub.status.busy": "2023-07-09T17:38:16.159293Z",
     "iopub.status.idle": "2023-07-09T17:38:16.166317Z",
     "shell.execute_reply": "2023-07-09T17:38:16.165488Z"
    },
    "id": "BB9OpjKszobJ",
    "outputId": "82db4857-ada8-48d7-ef0c-e5e78e196a1a",
    "papermill": {
     "duration": 0.041696,
     "end_time": "2023-07-09T17:38:16.168770",
     "exception": false,
     "start_time": "2023-07-09T17:38:16.127074",
     "status": "completed"
    },
    "tags": []
   },
   "outputs": [
    {
     "data": {
      "text/plain": [
       "Index(['CustomerId', 'Surname', 'CreditScore', 'Geography', 'Gender', 'Age',\n",
       "       'Tenure', 'Balance', 'Num Of Products', 'Has Credit Card',\n",
       "       'Is Active Member', 'Estimated Salary', 'Churn', 'Zero Balance'],\n",
       "      dtype='object')"
      ]
     },
     "execution_count": 24,
     "metadata": {},
     "output_type": "execute_result"
    }
   ],
   "source": [
    "bccm.columns"
   ]
  },
  {
   "cell_type": "code",
   "execution_count": 25,
   "id": "cecae2ba",
   "metadata": {
    "execution": {
     "iopub.execute_input": "2023-07-09T17:38:16.235208Z",
     "iopub.status.busy": "2023-07-09T17:38:16.233985Z",
     "iopub.status.idle": "2023-07-09T17:38:16.241460Z",
     "shell.execute_reply": "2023-07-09T17:38:16.239890Z"
    },
    "id": "GNFYomXF1eVI",
    "papermill": {
     "duration": 0.043521,
     "end_time": "2023-07-09T17:38:16.244249",
     "exception": false,
     "start_time": "2023-07-09T17:38:16.200728",
     "status": "completed"
    },
    "tags": []
   },
   "outputs": [],
   "source": [
    "x = bccm.drop(['Surname', 'Churn'], axis = 1)"
   ]
  },
  {
   "cell_type": "code",
   "execution_count": 26,
   "id": "d7a55481",
   "metadata": {
    "execution": {
     "iopub.execute_input": "2023-07-09T17:38:16.307948Z",
     "iopub.status.busy": "2023-07-09T17:38:16.307137Z",
     "iopub.status.idle": "2023-07-09T17:38:16.312760Z",
     "shell.execute_reply": "2023-07-09T17:38:16.311749Z"
    },
    "id": "DV__CMFE1suP",
    "papermill": {
     "duration": 0.040496,
     "end_time": "2023-07-09T17:38:16.315392",
     "exception": false,
     "start_time": "2023-07-09T17:38:16.274896",
     "status": "completed"
    },
    "tags": []
   },
   "outputs": [],
   "source": [
    "y = bccm['Churn']"
   ]
  },
  {
   "cell_type": "code",
   "execution_count": 27,
   "id": "b4b24910",
   "metadata": {
    "execution": {
     "iopub.execute_input": "2023-07-09T17:38:16.381786Z",
     "iopub.status.busy": "2023-07-09T17:38:16.380709Z",
     "iopub.status.idle": "2023-07-09T17:38:16.388614Z",
     "shell.execute_reply": "2023-07-09T17:38:16.387454Z"
    },
    "id": "G0zdp0bT2Kjg",
    "outputId": "8a4e62a8-ded4-44a1-db5d-f403299a57c4",
    "papermill": {
     "duration": 0.045011,
     "end_time": "2023-07-09T17:38:16.391132",
     "exception": false,
     "start_time": "2023-07-09T17:38:16.346121",
     "status": "completed"
    },
    "tags": []
   },
   "outputs": [
    {
     "data": {
      "text/plain": [
       "((10000, 12), (10000,))"
      ]
     },
     "execution_count": 27,
     "metadata": {},
     "output_type": "execute_result"
    }
   ],
   "source": [
    "x.shape, y.shape"
   ]
  },
  {
   "cell_type": "markdown",
   "id": "d27a7d77",
   "metadata": {
    "id": "glVxCWvh2ftT",
    "papermill": {
     "duration": 0.030835,
     "end_time": "2023-07-09T17:38:16.453906",
     "exception": false,
     "start_time": "2023-07-09T17:38:16.423071",
     "status": "completed"
    },
    "tags": []
   },
   "source": [
    "**Handling Imbalance Data**"
   ]
  },
  {
   "cell_type": "code",
   "execution_count": 28,
   "id": "9ca7ad48",
   "metadata": {
    "execution": {
     "iopub.execute_input": "2023-07-09T17:38:16.520078Z",
     "iopub.status.busy": "2023-07-09T17:38:16.519393Z",
     "iopub.status.idle": "2023-07-09T17:38:16.528155Z",
     "shell.execute_reply": "2023-07-09T17:38:16.526941Z"
    },
    "id": "W3Jb53mu2Rjq",
    "outputId": "ceace2d3-7315-4ea4-ba86-c37dceabb0c4",
    "papermill": {
     "duration": 0.04474,
     "end_time": "2023-07-09T17:38:16.530567",
     "exception": false,
     "start_time": "2023-07-09T17:38:16.485827",
     "status": "completed"
    },
    "tags": []
   },
   "outputs": [
    {
     "data": {
      "text/plain": [
       "Churn\n",
       "0    7963\n",
       "1    2037\n",
       "Name: count, dtype: int64"
      ]
     },
     "execution_count": 28,
     "metadata": {},
     "output_type": "execute_result"
    }
   ],
   "source": [
    "bccm['Churn'].value_counts()"
   ]
  },
  {
   "cell_type": "code",
   "execution_count": 29,
   "id": "3341a941",
   "metadata": {
    "execution": {
     "iopub.execute_input": "2023-07-09T17:38:16.598180Z",
     "iopub.status.busy": "2023-07-09T17:38:16.597490Z",
     "iopub.status.idle": "2023-07-09T17:38:16.863165Z",
     "shell.execute_reply": "2023-07-09T17:38:16.861743Z"
    },
    "id": "im9CM4f-25iA",
    "outputId": "de1130b1-7d13-4dbd-aee9-27c7feba3aad",
    "papermill": {
     "duration": 0.302328,
     "end_time": "2023-07-09T17:38:16.865830",
     "exception": false,
     "start_time": "2023-07-09T17:38:16.563502",
     "status": "completed"
    },
    "tags": []
   },
   "outputs": [
    {
     "data": {
      "image/png": "[encoded data removed]",
      "text/plain": [
       "<Figure size 640x480 with 1 Axes>"
      ]
     },
     "metadata": {},
     "output_type": "display_data"
    }
   ],
   "source": [
    "sns.countplot(x = 'Churn', data = bccm);"
   ]
  },
  {
   "cell_type": "code",
   "execution_count": 30,
   "id": "208d27e9",
   "metadata": {
    "execution": {
     "iopub.execute_input": "2023-07-09T17:38:16.935559Z",
     "iopub.status.busy": "2023-07-09T17:38:16.934924Z",
     "iopub.status.idle": "2023-07-09T17:38:16.943975Z",
     "shell.execute_reply": "2023-07-09T17:38:16.942411Z"
    },
    "id": "_r7TZUgn3JLY",
    "outputId": "603ed3ee-08b6-45ad-840d-a48100159966",
    "papermill": {
     "duration": 0.048137,
     "end_time": "2023-07-09T17:38:16.946959",
     "exception": false,
     "start_time": "2023-07-09T17:38:16.898822",
     "status": "completed"
    },
    "tags": []
   },
   "outputs": [
    {
     "data": {
      "text/plain": [
       "((10000, 12), (10000,))"
      ]
     },
     "execution_count": 30,
     "metadata": {},
     "output_type": "execute_result"
    }
   ],
   "source": [
    "x.shape, y.shape"
   ]
  },
  {
   "cell_type": "markdown",
   "id": "b2111df9",
   "metadata": {
    "id": "rmsWDpbj3aT-",
    "papermill": {
     "duration": 0.033512,
     "end_time": "2023-07-09T17:38:17.014581",
     "exception": false,
     "start_time": "2023-07-09T17:38:16.981069",
     "status": "completed"
    },
    "tags": []
   },
   "source": [
    "**Random Under Sampling**"
   ]
  },
  {
   "cell_type": "code",
   "execution_count": 31,
   "id": "ca6c3a12",
   "metadata": {
    "execution": {
     "iopub.execute_input": "2023-07-09T17:38:17.082501Z",
     "iopub.status.busy": "2023-07-09T17:38:17.082058Z",
     "iopub.status.idle": "2023-07-09T17:38:18.232672Z",
     "shell.execute_reply": "2023-07-09T17:38:18.230925Z"
    },
    "id": "FAKS8FaQ3PeR",
    "papermill": {
     "duration": 1.188175,
     "end_time": "2023-07-09T17:38:18.236169",
     "exception": false,
     "start_time": "2023-07-09T17:38:17.047994",
     "status": "completed"
    },
    "tags": []
   },
   "outputs": [],
   "source": [
    "from imblearn.under_sampling import RandomUnderSampler"
   ]
  },
  {
   "cell_type": "code",
   "execution_count": 32,
   "id": "9f61139e",
   "metadata": {
    "execution": {
     "iopub.execute_input": "2023-07-09T17:38:18.306289Z",
     "iopub.status.busy": "2023-07-09T17:38:18.305735Z",
     "iopub.status.idle": "2023-07-09T17:38:18.311996Z",
     "shell.execute_reply": "2023-07-09T17:38:18.310706Z"
    },
    "id": "p7x4qzdx3s3K",
    "papermill": {
     "duration": 0.043822,
     "end_time": "2023-07-09T17:38:18.314708",
     "exception": false,
     "start_time": "2023-07-09T17:38:18.270886",
     "status": "completed"
    },
    "tags": []
   },
   "outputs": [],
   "source": [
    " rus = RandomUnderSampler(random_state=2529)"
   ]
  },
  {
   "cell_type": "code",
   "execution_count": 33,
   "id": "9a335019",
   "metadata": {
    "execution": {
     "iopub.execute_input": "2023-07-09T17:38:18.387374Z",
     "iopub.status.busy": "2023-07-09T17:38:18.386817Z",
     "iopub.status.idle": "2023-07-09T17:38:18.409012Z",
     "shell.execute_reply": "2023-07-09T17:38:18.407969Z"
    },
    "id": "C4GCTp7s4pb3",
    "papermill": {
     "duration": 0.062509,
     "end_time": "2023-07-09T17:38:18.411800",
     "exception": false,
     "start_time": "2023-07-09T17:38:18.349291",
     "status": "completed"
    },
    "tags": []
   },
   "outputs": [],
   "source": [
    "x_rus, y_rus = rus.fit_resample(x,y)"
   ]
  },
  {
   "cell_type": "code",
   "execution_count": 34,
   "id": "4009bd0c",
   "metadata": {
    "execution": {
     "iopub.execute_input": "2023-07-09T17:38:18.479893Z",
     "iopub.status.busy": "2023-07-09T17:38:18.479073Z",
     "iopub.status.idle": "2023-07-09T17:38:18.487558Z",
     "shell.execute_reply": "2023-07-09T17:38:18.486435Z"
    },
    "id": "5UIXEtcD5AUl",
    "outputId": "56c5a7a1-eace-40b3-ea92-d79a4ad27fd2",
    "papermill": {
     "duration": 0.044886,
     "end_time": "2023-07-09T17:38:18.490015",
     "exception": false,
     "start_time": "2023-07-09T17:38:18.445129",
     "status": "completed"
    },
    "tags": []
   },
   "outputs": [
    {
     "data": {
      "text/plain": [
       "((4074, 12), (4074,), (10000, 12), (10000,))"
      ]
     },
     "execution_count": 34,
     "metadata": {},
     "output_type": "execute_result"
    }
   ],
   "source": [
    "x_rus.shape, y_rus.shape, x.shape, y.shape"
   ]
  },
  {
   "cell_type": "code",
   "execution_count": 35,
   "id": "e77f8e37",
   "metadata": {
    "execution": {
     "iopub.execute_input": "2023-07-09T17:38:18.560321Z",
     "iopub.status.busy": "2023-07-09T17:38:18.559922Z",
     "iopub.status.idle": "2023-07-09T17:38:18.568906Z",
     "shell.execute_reply": "2023-07-09T17:38:18.567605Z"
    },
    "id": "HGWATIlC5Rc0",
    "outputId": "ae59621d-a9f8-4b15-8ee8-d14f44e4404d",
    "papermill": {
     "duration": 0.046525,
     "end_time": "2023-07-09T17:38:18.571433",
     "exception": false,
     "start_time": "2023-07-09T17:38:18.524908",
     "status": "completed"
    },
    "tags": []
   },
   "outputs": [
    {
     "data": {
      "text/plain": [
       "Churn\n",
       "0    7963\n",
       "1    2037\n",
       "Name: count, dtype: int64"
      ]
     },
     "execution_count": 35,
     "metadata": {},
     "output_type": "execute_result"
    }
   ],
   "source": [
    "y.value_counts()"
   ]
  },
  {
   "cell_type": "code",
   "execution_count": 36,
   "id": "3bc68861",
   "metadata": {
    "execution": {
     "iopub.execute_input": "2023-07-09T17:38:18.643935Z",
     "iopub.status.busy": "2023-07-09T17:38:18.643455Z",
     "iopub.status.idle": "2023-07-09T17:38:18.653143Z",
     "shell.execute_reply": "2023-07-09T17:38:18.651935Z"
    },
    "id": "hnrYASGR6ou3",
    "outputId": "9a2aec7b-bc0c-4f4b-f1ec-76d7281344cb",
    "papermill": {
     "duration": 0.049729,
     "end_time": "2023-07-09T17:38:18.656012",
     "exception": false,
     "start_time": "2023-07-09T17:38:18.606283",
     "status": "completed"
    },
    "tags": []
   },
   "outputs": [
    {
     "data": {
      "text/plain": [
       "Churn\n",
       "0    2037\n",
       "1    2037\n",
       "Name: count, dtype: int64"
      ]
     },
     "execution_count": 36,
     "metadata": {},
     "output_type": "execute_result"
    }
   ],
   "source": [
    "y_rus.value_counts()"
   ]
  },
  {
   "cell_type": "code",
   "execution_count": 37,
   "id": "dcfd55bd",
   "metadata": {
    "execution": {
     "iopub.execute_input": "2023-07-09T17:38:18.727093Z",
     "iopub.status.busy": "2023-07-09T17:38:18.726558Z",
     "iopub.status.idle": "2023-07-09T17:38:19.084118Z",
     "shell.execute_reply": "2023-07-09T17:38:19.082755Z"
    },
    "id": "dtQV6fkB6wTm",
    "outputId": "36ce88ba-deee-4648-dca2-92596c408cad",
    "papermill": {
     "duration": 0.395915,
     "end_time": "2023-07-09T17:38:19.087000",
     "exception": false,
     "start_time": "2023-07-09T17:38:18.691085",
     "status": "completed"
    },
    "tags": []
   },
   "outputs": [
    {
     "data": {
      "text/plain": [
       "<Axes: ylabel='Frequency'>"
      ]
     },
     "execution_count": 37,
     "metadata": {},
     "output_type": "execute_result"
    },
    {
     "data": {
      "image/png": "[encoded data removed]",
      "text/plain": [
       "<Figure size 640x480 with 1 Axes>"
      ]
     },
     "metadata": {},
     "output_type": "display_data"
    }
   ],
   "source": [
    "y_rus.plot(kind = 'hist')"
   ]
  },
  {
   "cell_type": "markdown",
   "id": "a101e217",
   "metadata": {
    "id": "t4uQTfqg7Tn4",
    "papermill": {
     "duration": 0.033113,
     "end_time": "2023-07-09T17:38:19.154507",
     "exception": false,
     "start_time": "2023-07-09T17:38:19.121394",
     "status": "completed"
    },
    "tags": []
   },
   "source": [
    "**Random Over Sampling**"
   ]
  },
  {
   "cell_type": "code",
   "execution_count": 38,
   "id": "26f3fe98",
   "metadata": {
    "execution": {
     "iopub.execute_input": "2023-07-09T17:38:19.226867Z",
     "iopub.status.busy": "2023-07-09T17:38:19.226436Z",
     "iopub.status.idle": "2023-07-09T17:38:19.232228Z",
     "shell.execute_reply": "2023-07-09T17:38:19.231009Z"
    },
    "id": "7Dm7wDBL69_l",
    "papermill": {
     "duration": 0.045481,
     "end_time": "2023-07-09T17:38:19.234917",
     "exception": false,
     "start_time": "2023-07-09T17:38:19.189436",
     "status": "completed"
    },
    "tags": []
   },
   "outputs": [],
   "source": [
    "from imblearn.over_sampling import RandomOverSampler"
   ]
  },
  {
   "cell_type": "code",
   "execution_count": 39,
   "id": "12b976f5",
   "metadata": {
    "execution": {
     "iopub.execute_input": "2023-07-09T17:38:19.306839Z",
     "iopub.status.busy": "2023-07-09T17:38:19.306361Z",
     "iopub.status.idle": "2023-07-09T17:38:19.313905Z",
     "shell.execute_reply": "2023-07-09T17:38:19.312470Z"
    },
    "id": "nnijt98H7fuG",
    "papermill": {
     "duration": 0.045164,
     "end_time": "2023-07-09T17:38:19.316781",
     "exception": false,
     "start_time": "2023-07-09T17:38:19.271617",
     "status": "completed"
    },
    "tags": []
   },
   "outputs": [],
   "source": [
    "ros = RandomOverSampler(random_state=2529)"
   ]
  },
  {
   "cell_type": "code",
   "execution_count": 40,
   "id": "1500509b",
   "metadata": {
    "execution": {
     "iopub.execute_input": "2023-07-09T17:38:19.392873Z",
     "iopub.status.busy": "2023-07-09T17:38:19.392440Z",
     "iopub.status.idle": "2023-07-09T17:38:19.414226Z",
     "shell.execute_reply": "2023-07-09T17:38:19.412791Z"
    },
    "id": "u0L6jndg7txn",
    "papermill": {
     "duration": 0.063728,
     "end_time": "2023-07-09T17:38:19.417141",
     "exception": false,
     "start_time": "2023-07-09T17:38:19.353413",
     "status": "completed"
    },
    "tags": []
   },
   "outputs": [],
   "source": [
    "x_ros, y_ros = ros.fit_resample(x,y)"
   ]
  },
  {
   "cell_type": "code",
   "execution_count": 41,
   "id": "77c8e2b3",
   "metadata": {
    "execution": {
     "iopub.execute_input": "2023-07-09T17:38:19.488415Z",
     "iopub.status.busy": "2023-07-09T17:38:19.487920Z",
     "iopub.status.idle": "2023-07-09T17:38:19.499174Z",
     "shell.execute_reply": "2023-07-09T17:38:19.497792Z"
    },
    "id": "1bxL_5777y1R",
    "outputId": "8dd74075-afaf-4752-8888-64e07471079c",
    "papermill": {
     "duration": 0.050925,
     "end_time": "2023-07-09T17:38:19.501986",
     "exception": false,
     "start_time": "2023-07-09T17:38:19.451061",
     "status": "completed"
    },
    "tags": []
   },
   "outputs": [
    {
     "data": {
      "text/plain": [
       "((15926, 12), (15926,), (10000, 12), (10000,))"
      ]
     },
     "execution_count": 41,
     "metadata": {},
     "output_type": "execute_result"
    }
   ],
   "source": [
    "x_ros.shape, y_ros.shape, x.shape, y.shape"
   ]
  },
  {
   "cell_type": "code",
   "execution_count": 42,
   "id": "df50a847",
   "metadata": {
    "execution": {
     "iopub.execute_input": "2023-07-09T17:38:19.574396Z",
     "iopub.status.busy": "2023-07-09T17:38:19.573954Z",
     "iopub.status.idle": "2023-07-09T17:38:19.584151Z",
     "shell.execute_reply": "2023-07-09T17:38:19.582341Z"
    },
    "id": "Q3EVeKGg8Kf4",
    "outputId": "f25a7bc6-c745-40c1-e749-755287953cce",
    "papermill": {
     "duration": 0.05089,
     "end_time": "2023-07-09T17:38:19.587041",
     "exception": false,
     "start_time": "2023-07-09T17:38:19.536151",
     "status": "completed"
    },
    "tags": []
   },
   "outputs": [
    {
     "data": {
      "text/plain": [
       "Churn\n",
       "0    7963\n",
       "1    2037\n",
       "Name: count, dtype: int64"
      ]
     },
     "execution_count": 42,
     "metadata": {},
     "output_type": "execute_result"
    }
   ],
   "source": [
    "y.value_counts()"
   ]
  },
  {
   "cell_type": "code",
   "execution_count": 43,
   "id": "fc477457",
   "metadata": {
    "execution": {
     "iopub.execute_input": "2023-07-09T17:38:19.659402Z",
     "iopub.status.busy": "2023-07-09T17:38:19.658851Z",
     "iopub.status.idle": "2023-07-09T17:38:20.016655Z",
     "shell.execute_reply": "2023-07-09T17:38:20.015174Z"
    },
    "id": "S8WfviXV8N-Y",
    "outputId": "a1775c16-fb71-4ffb-80fe-d3e56c637c39",
    "papermill": {
     "duration": 0.397551,
     "end_time": "2023-07-09T17:38:20.019611",
     "exception": false,
     "start_time": "2023-07-09T17:38:19.622060",
     "status": "completed"
    },
    "tags": []
   },
   "outputs": [
    {
     "data": {
      "text/plain": [
       "<Axes: ylabel='Frequency'>"
      ]
     },
     "execution_count": 43,
     "metadata": {},
     "output_type": "execute_result"
    },
    {
     "data": {
      "image/png": "[encoded data removed]",
      "text/plain": [
       "<Figure size 640x480 with 1 Axes>"
      ]
     },
     "metadata": {},
     "output_type": "display_data"
    }
   ],
   "source": [
    "y_ros.plot(kind = 'hist')"
   ]
  },
  {
   "cell_type": "markdown",
   "id": "233ba307",
   "metadata": {
    "id": "XlSesT698dGY",
    "papermill": {
     "duration": 0.034134,
     "end_time": "2023-07-09T17:38:20.089042",
     "exception": false,
     "start_time": "2023-07-09T17:38:20.054908",
     "status": "completed"
    },
    "tags": []
   },
   "source": [
    "***Train Test Split***"
   ]
  },
  {
   "cell_type": "code",
   "execution_count": 44,
   "id": "fb8a3a6a",
   "metadata": {
    "execution": {
     "iopub.execute_input": "2023-07-09T17:38:20.165065Z",
     "iopub.status.busy": "2023-07-09T17:38:20.164602Z",
     "iopub.status.idle": "2023-07-09T17:38:20.170057Z",
     "shell.execute_reply": "2023-07-09T17:38:20.168740Z"
    },
    "id": "-PFmi5fe8ZpB",
    "papermill": {
     "duration": 0.046711,
     "end_time": "2023-07-09T17:38:20.172581",
     "exception": false,
     "start_time": "2023-07-09T17:38:20.125870",
     "status": "completed"
    },
    "tags": []
   },
   "outputs": [],
   "source": [
    "from sklearn.model_selection import train_test_split"
   ]
  },
  {
   "cell_type": "markdown",
   "id": "200e6aaf",
   "metadata": {
    "id": "nP8kaoXa9C-8",
    "papermill": {
     "duration": 0.036715,
     "end_time": "2023-07-09T17:38:20.248385",
     "exception": false,
     "start_time": "2023-07-09T17:38:20.211670",
     "status": "completed"
    },
    "tags": []
   },
   "source": [
    "**split original Data**"
   ]
  },
  {
   "cell_type": "code",
   "execution_count": 45,
   "id": "7542a79d",
   "metadata": {
    "execution": {
     "iopub.execute_input": "2023-07-09T17:38:20.324420Z",
     "iopub.status.busy": "2023-07-09T17:38:20.323949Z",
     "iopub.status.idle": "2023-07-09T17:38:20.334980Z",
     "shell.execute_reply": "2023-07-09T17:38:20.333868Z"
    },
    "id": "b78t3Rm48uKK",
    "papermill": {
     "duration": 0.052864,
     "end_time": "2023-07-09T17:38:20.337784",
     "exception": false,
     "start_time": "2023-07-09T17:38:20.284920",
     "status": "completed"
    },
    "tags": []
   },
   "outputs": [],
   "source": [
    "x_train, x_test, y_train, y_test = train_test_split(x, y, test_size=0.3, random_state=2529)"
   ]
  },
  {
   "cell_type": "markdown",
   "id": "cd424079",
   "metadata": {
    "id": "wuA7pUBh-jFa",
    "papermill": {
     "duration": 0.035295,
     "end_time": "2023-07-09T17:38:20.412228",
     "exception": false,
     "start_time": "2023-07-09T17:38:20.376933",
     "status": "completed"
    },
    "tags": []
   },
   "source": [
    "**Split Random Under Sample Data**"
   ]
  },
  {
   "cell_type": "code",
   "execution_count": 46,
   "id": "27f75b29",
   "metadata": {
    "execution": {
     "iopub.execute_input": "2023-07-09T17:38:20.486094Z",
     "iopub.status.busy": "2023-07-09T17:38:20.484711Z",
     "iopub.status.idle": "2023-07-09T17:38:20.495171Z",
     "shell.execute_reply": "2023-07-09T17:38:20.493104Z"
    },
    "id": "KgciO6TD9zId",
    "papermill": {
     "duration": 0.049709,
     "end_time": "2023-07-09T17:38:20.498284",
     "exception": false,
     "start_time": "2023-07-09T17:38:20.448575",
     "status": "completed"
    },
    "tags": []
   },
   "outputs": [],
   "source": [
    "x_train_rus, x_test_rus, y_train_rus, y_test_rus = train_test_split(x_rus, y_rus, test_size=0.3)"
   ]
  },
  {
   "cell_type": "markdown",
   "id": "fea20a7d",
   "metadata": {
    "id": "QvjWU-w2-vDj",
    "papermill": {
     "duration": 0.039072,
     "end_time": "2023-07-09T17:38:20.575076",
     "exception": false,
     "start_time": "2023-07-09T17:38:20.536004",
     "status": "completed"
    },
    "tags": []
   },
   "source": [
    "**Split Random Over Sample Data**"
   ]
  },
  {
   "cell_type": "code",
   "execution_count": 47,
   "id": "be3f41ef",
   "metadata": {
    "execution": {
     "iopub.execute_input": "2023-07-09T17:38:20.651804Z",
     "iopub.status.busy": "2023-07-09T17:38:20.651348Z",
     "iopub.status.idle": "2023-07-09T17:38:20.666516Z",
     "shell.execute_reply": "2023-07-09T17:38:20.665170Z"
    },
    "id": "gYRvRAbz-SBI",
    "papermill": {
     "duration": 0.055559,
     "end_time": "2023-07-09T17:38:20.669426",
     "exception": false,
     "start_time": "2023-07-09T17:38:20.613867",
     "status": "completed"
    },
    "tags": []
   },
   "outputs": [],
   "source": [
    "x_train_ros, x_test_ros, y_train_ros, y_test_ros = train_test_split(x_ros, y_ros, test_size=0.3)"
   ]
  },
  {
   "cell_type": "markdown",
   "id": "983c1967",
   "metadata": {
    "id": "Z10SphdN_i3k",
    "papermill": {
     "duration": 0.036981,
     "end_time": "2023-07-09T17:38:20.742783",
     "exception": false,
     "start_time": "2023-07-09T17:38:20.705802",
     "status": "completed"
    },
    "tags": []
   },
   "source": [
    "**Standardize Features**"
   ]
  },
  {
   "cell_type": "code",
   "execution_count": 48,
   "id": "9120c443",
   "metadata": {
    "execution": {
     "iopub.execute_input": "2023-07-09T17:38:20.819715Z",
     "iopub.status.busy": "2023-07-09T17:38:20.819258Z",
     "iopub.status.idle": "2023-07-09T17:38:20.825719Z",
     "shell.execute_reply": "2023-07-09T17:38:20.824085Z"
    },
    "id": "Y707rz39-fsM",
    "papermill": {
     "duration": 0.048136,
     "end_time": "2023-07-09T17:38:20.828398",
     "exception": false,
     "start_time": "2023-07-09T17:38:20.780262",
     "status": "completed"
    },
    "tags": []
   },
   "outputs": [],
   "source": [
    "from sklearn.preprocessing import StandardScaler"
   ]
  },
  {
   "cell_type": "code",
   "execution_count": 49,
   "id": "fc96a4b2",
   "metadata": {
    "execution": {
     "iopub.execute_input": "2023-07-09T17:38:20.903662Z",
     "iopub.status.busy": "2023-07-09T17:38:20.903218Z",
     "iopub.status.idle": "2023-07-09T17:38:20.908707Z",
     "shell.execute_reply": "2023-07-09T17:38:20.907607Z"
    },
    "id": "rSn_8Fui_-xp",
    "papermill": {
     "duration": 0.045552,
     "end_time": "2023-07-09T17:38:20.911277",
     "exception": false,
     "start_time": "2023-07-09T17:38:20.865725",
     "status": "completed"
    },
    "tags": []
   },
   "outputs": [],
   "source": [
    "sc = StandardScaler()"
   ]
  },
  {
   "cell_type": "markdown",
   "id": "e89f62f1",
   "metadata": {
    "id": "Sz2a-6F_AEsZ",
    "papermill": {
     "duration": 0.035067,
     "end_time": "2023-07-09T17:38:20.982695",
     "exception": false,
     "start_time": "2023-07-09T17:38:20.947628",
     "status": "completed"
    },
    "tags": []
   },
   "source": [
    "**Standardize Original Data**"
   ]
  },
  {
   "cell_type": "code",
   "execution_count": 50,
   "id": "b7d24e11",
   "metadata": {
    "execution": {
     "iopub.execute_input": "2023-07-09T17:38:21.057242Z",
     "iopub.status.busy": "2023-07-09T17:38:21.056061Z",
     "iopub.status.idle": "2023-07-09T17:38:21.071032Z",
     "shell.execute_reply": "2023-07-09T17:38:21.069965Z"
    },
    "id": "zWthjZ7yADfk",
    "papermill": {
     "duration": 0.055642,
     "end_time": "2023-07-09T17:38:21.074077",
     "exception": false,
     "start_time": "2023-07-09T17:38:21.018435",
     "status": "completed"
    },
    "tags": []
   },
   "outputs": [],
   "source": [
    "x_train[['CreditScore', 'Age', 'Tenure', 'Balance', 'Estimated Salary']]= sc.fit_transform(x_train[['CreditScore', 'Age', 'Tenure', 'Balance', 'Estimated Salary']])"
   ]
  },
  {
   "cell_type": "code",
   "execution_count": 51,
   "id": "dd535b04",
   "metadata": {
    "execution": {
     "iopub.execute_input": "2023-07-09T17:38:21.148981Z",
     "iopub.status.busy": "2023-07-09T17:38:21.147735Z",
     "iopub.status.idle": "2023-07-09T17:38:21.161556Z",
     "shell.execute_reply": "2023-07-09T17:38:21.160316Z"
    },
    "id": "67pWRNrNA_zZ",
    "papermill": {
     "duration": 0.053279,
     "end_time": "2023-07-09T17:38:21.164414",
     "exception": false,
     "start_time": "2023-07-09T17:38:21.111135",
     "status": "completed"
    },
    "tags": []
   },
   "outputs": [],
   "source": [
    "x_test[['CreditScore', 'Age', 'Tenure', 'Balance', 'Estimated Salary']]= sc.fit_transform(x_test[['CreditScore', 'Age', 'Tenure', 'Balance', 'Estimated Salary']])"
   ]
  },
  {
   "cell_type": "markdown",
   "id": "a0b06b8c",
   "metadata": {
    "id": "X2XWf10fBVTB",
    "papermill": {
     "duration": 0.035584,
     "end_time": "2023-07-09T17:38:21.236725",
     "exception": false,
     "start_time": "2023-07-09T17:38:21.201141",
     "status": "completed"
    },
    "tags": []
   },
   "source": [
    "**Standardize Random User Data**"
   ]
  },
  {
   "cell_type": "code",
   "execution_count": 52,
   "id": "27d31292",
   "metadata": {
    "execution": {
     "iopub.execute_input": "2023-07-09T17:38:21.311315Z",
     "iopub.status.busy": "2023-07-09T17:38:21.310060Z",
     "iopub.status.idle": "2023-07-09T17:38:21.323970Z",
     "shell.execute_reply": "2023-07-09T17:38:21.322739Z"
    },
    "id": "bJNeyXGoBYoe",
    "papermill": {
     "duration": 0.054265,
     "end_time": "2023-07-09T17:38:21.326759",
     "exception": false,
     "start_time": "2023-07-09T17:38:21.272494",
     "status": "completed"
    },
    "tags": []
   },
   "outputs": [],
   "source": [
    "x_train_rus[['CreditScore', 'Age', 'Tenure', 'Balance', 'Estimated Salary']]= sc.fit_transform(x_train_rus[['CreditScore', 'Age', 'Tenure', 'Balance', 'Estimated Salary']])"
   ]
  },
  {
   "cell_type": "code",
   "execution_count": 53,
   "id": "e0045ac5",
   "metadata": {
    "execution": {
     "iopub.execute_input": "2023-07-09T17:38:21.404978Z",
     "iopub.status.busy": "2023-07-09T17:38:21.403930Z",
     "iopub.status.idle": "2023-07-09T17:38:21.416339Z",
     "shell.execute_reply": "2023-07-09T17:38:21.414909Z"
    },
    "id": "PU6f0jnEB2v1",
    "papermill": {
     "duration": 0.054728,
     "end_time": "2023-07-09T17:38:21.419470",
     "exception": false,
     "start_time": "2023-07-09T17:38:21.364742",
     "status": "completed"
    },
    "tags": []
   },
   "outputs": [],
   "source": [
    "x_test_rus[['CreditScore', 'Age', 'Tenure', 'Balance', 'Estimated Salary']]= sc.fit_transform(x_test_rus[['CreditScore', 'Age', 'Tenure', 'Balance', 'Estimated Salary']])"
   ]
  },
  {
   "cell_type": "markdown",
   "id": "cec2a778",
   "metadata": {
    "id": "y_acBM3-CLwR",
    "papermill": {
     "duration": 0.035275,
     "end_time": "2023-07-09T17:38:21.490435",
     "exception": false,
     "start_time": "2023-07-09T17:38:21.455160",
     "status": "completed"
    },
    "tags": []
   },
   "source": [
    "**Standardize Random Over Data**"
   ]
  },
  {
   "cell_type": "code",
   "execution_count": 54,
   "id": "db10fd75",
   "metadata": {
    "execution": {
     "iopub.execute_input": "2023-07-09T17:38:21.567167Z",
     "iopub.status.busy": "2023-07-09T17:38:21.566728Z",
     "iopub.status.idle": "2023-07-09T17:38:21.581056Z",
     "shell.execute_reply": "2023-07-09T17:38:21.580119Z"
    },
    "id": "_uh3L5bgCWvC",
    "papermill": {
     "duration": 0.054899,
     "end_time": "2023-07-09T17:38:21.583635",
     "exception": false,
     "start_time": "2023-07-09T17:38:21.528736",
     "status": "completed"
    },
    "tags": []
   },
   "outputs": [],
   "source": [
    "x_train_ros[['CreditScore', 'Age', 'Tenure', 'Balance', 'Estimated Salary']]= sc.fit_transform(x_train_ros[['CreditScore', 'Age', 'Tenure', 'Balance', 'Estimated Salary']])"
   ]
  },
  {
   "cell_type": "code",
   "execution_count": 55,
   "id": "bd454804",
   "metadata": {
    "execution": {
     "iopub.execute_input": "2023-07-09T17:38:21.659002Z",
     "iopub.status.busy": "2023-07-09T17:38:21.657750Z",
     "iopub.status.idle": "2023-07-09T17:38:21.671744Z",
     "shell.execute_reply": "2023-07-09T17:38:21.670102Z"
    },
    "id": "ow1Dq1zaCdjs",
    "papermill": {
     "duration": 0.055464,
     "end_time": "2023-07-09T17:38:21.675249",
     "exception": false,
     "start_time": "2023-07-09T17:38:21.619785",
     "status": "completed"
    },
    "tags": []
   },
   "outputs": [],
   "source": [
    "x_test_ros[['CreditScore', 'Age', 'Tenure', 'Balance', 'Estimated Salary']]= sc.fit_transform(x_test_ros[['CreditScore', 'Age', 'Tenure', 'Balance', 'Estimated Salary']])"
   ]
  },
  {
   "cell_type": "markdown",
   "id": "0d09b3b5",
   "metadata": {
    "id": "ItpNhzs8CmVu",
    "papermill": {
     "duration": 0.037008,
     "end_time": "2023-07-09T17:38:21.748943",
     "exception": false,
     "start_time": "2023-07-09T17:38:21.711935",
     "status": "completed"
    },
    "tags": []
   },
   "source": [
    "**Support Vector Machine Classifier**"
   ]
  },
  {
   "cell_type": "code",
   "execution_count": 56,
   "id": "c9310b9f",
   "metadata": {
    "execution": {
     "iopub.execute_input": "2023-07-09T17:38:21.825042Z",
     "iopub.status.busy": "2023-07-09T17:38:21.824295Z",
     "iopub.status.idle": "2023-07-09T17:38:21.830595Z",
     "shell.execute_reply": "2023-07-09T17:38:21.829330Z"
    },
    "id": "H1ywIl0ZCwWQ",
    "papermill": {
     "duration": 0.047975,
     "end_time": "2023-07-09T17:38:21.833156",
     "exception": false,
     "start_time": "2023-07-09T17:38:21.785181",
     "status": "completed"
    },
    "tags": []
   },
   "outputs": [],
   "source": [
    "from sklearn.svm import SVC"
   ]
  },
  {
   "cell_type": "code",
   "execution_count": 57,
   "id": "11eb02cb",
   "metadata": {
    "execution": {
     "iopub.execute_input": "2023-07-09T17:38:21.906508Z",
     "iopub.status.busy": "2023-07-09T17:38:21.906078Z",
     "iopub.status.idle": "2023-07-09T17:38:21.912344Z",
     "shell.execute_reply": "2023-07-09T17:38:21.910686Z"
    },
    "id": "yd0ATcyFC2zb",
    "papermill": {
     "duration": 0.046109,
     "end_time": "2023-07-09T17:38:21.915235",
     "exception": false,
     "start_time": "2023-07-09T17:38:21.869126",
     "status": "completed"
    },
    "tags": []
   },
   "outputs": [],
   "source": [
    "svc = SVC()"
   ]
  },
  {
   "cell_type": "code",
   "execution_count": 58,
   "id": "a4c69794",
   "metadata": {
    "execution": {
     "iopub.execute_input": "2023-07-09T17:38:21.990936Z",
     "iopub.status.busy": "2023-07-09T17:38:21.990070Z",
     "iopub.status.idle": "2023-07-09T17:38:23.022763Z",
     "shell.execute_reply": "2023-07-09T17:38:23.021626Z"
    },
    "id": "eFlnqmYNC8ul",
    "outputId": "d105af5e-375c-4857-80fc-f1f405c5b48b",
    "papermill": {
     "duration": 1.074272,
     "end_time": "2023-07-09T17:38:23.025147",
     "exception": false,
     "start_time": "2023-07-09T17:38:21.950875",
     "status": "completed"
    },
    "tags": []
   },
   "outputs": [
    {
     "data": {
      "text/html": [
       "<style>#sk-container-id-1 {color: black;background-color: white;}#sk-container-id-1 pre{padding: 0;}#sk-container-id-1 div.sk-toggleable {background-color: white;}#sk-container-id-1 label.sk-toggleable__label {cursor: pointer;display: block;width: 100%;margin-bottom: 0;padding: 0.3em;box-sizing: border-box;text-align: center;}#sk-container-id-1 label.sk-toggleable__label-arrow:before {content: \"▸\";float: left;margin-right: 0.25em;color: #696969;}#sk-container-id-1 label.sk-toggleable__label-arrow:hover:before {color: black;}#sk-container-id-1 div.sk-estimator:hover label.sk-toggleable__label-arrow:before {color: black;}#sk-container-id-1 div.sk-toggleable__content {max-height: 0;max-width: 0;overflow: hidden;text-align: left;background-color: #f0f8ff;}#sk-container-id-1 div.sk-toggleable__content pre {margin: 0.2em;color: black;border-radius: 0.25em;background-color: #f0f8ff;}#sk-container-id-1 input.sk-toggleable__control:checked~div.sk-toggleable__content {max-height: 200px;max-width: 100%;overflow: auto;}#sk-container-id-1 input.sk-toggleable__control:checked~label.sk-toggleable__label-arrow:before {content: \"▾\";}#sk-container-id-1 div.sk-estimator input.sk-toggleable__control:checked~label.sk-toggleable__label {background-color: #d4ebff;}#sk-container-id-1 div.sk-label input.sk-toggleable__control:checked~label.sk-toggleable__label {background-color: #d4ebff;}#sk-container-id-1 input.sk-hidden--visually {border: 0;clip: rect(1px 1px 1px 1px);clip: rect(1px, 1px, 1px, 1px);height: 1px;margin: -1px;overflow: hidden;padding: 0;position: absolute;width: 1px;}#sk-container-id-1 div.sk-estimator {font-family: monospace;background-color: #f0f8ff;border: 1px dotted black;border-radius: 0.25em;box-sizing: border-box;margin-bottom: 0.5em;}#sk-container-id-1 div.sk-estimator:hover {background-color: #d4ebff;}#sk-container-id-1 div.sk-parallel-item::after {content: \"\";width: 100%;border-bottom: 1px solid gray;flex-grow: 1;}#sk-container-id-1 div.sk-label:hover label.sk-toggleable__label {background-color: #d4ebff;}#sk-container-id-1 div.sk-serial::before {content: \"\";position: absolute;border-left: 1px solid gray;box-sizing: border-box;top: 0;bottom: 0;left: 50%;z-index: 0;}#sk-container-id-1 div.sk-serial {display: flex;flex-direction: column;align-items: center;background-color: white;padding-right: 0.2em;padding-left: 0.2em;position: relative;}#sk-container-id-1 div.sk-item {position: relative;z-index: 1;}#sk-container-id-1 div.sk-parallel {display: flex;align-items: stretch;justify-content: center;background-color: white;position: relative;}#sk-container-id-1 div.sk-item::before, #sk-container-id-1 div.sk-parallel-item::before {content: \"\";position: absolute;border-left: 1px solid gray;box-sizing: border-box;top: 0;bottom: 0;left: 50%;z-index: -1;}#sk-container-id-1 div.sk-parallel-item {display: flex;flex-direction: column;z-index: 1;position: relative;background-color: white;}#sk-container-id-1 div.sk-parallel-item:first-child::after {align-self: flex-end;width: 50%;}#sk-container-id-1 div.sk-parallel-item:last-child::after {align-self: flex-start;width: 50%;}#sk-container-id-1 div.sk-parallel-item:only-child::after {width: 0;}#sk-container-id-1 div.sk-dashed-wrapped {border: 1px dashed gray;margin: 0 0.4em 0.5em 0.4em;box-sizing: border-box;padding-bottom: 0.4em;background-color: white;}#sk-container-id-1 div.sk-label label {font-family: monospace;font-weight: bold;display: inline-block;line-height: 1.2em;}#sk-container-id-1 div.sk-label-container {text-align: center;}#sk-container-id-1 div.sk-container {/* jupyter's `normalize.less` sets `[hidden] { display: none; }` but bootstrap.min.css set `[hidden] { display: none !important; }` so we also need the `!important` here to be able to override the default hidden behavior on the sphinx rendered scikit-learn.org. See: https://github.com/scikit-learn/scikit-learn/issues/21755 */display: inline-block !important;position: relative;}#sk-container-id-1 div.sk-text-repr-fallback {display: none;}</style><div id=\"sk-container-id-1\" class=\"sk-top-container\"><div class=\"sk-text-repr-fallback\"><pre>SVC()</pre><b>In a Jupyter environment, please rerun this cell to show the HTML representation or trust the notebook. <br />On GitHub, the HTML representation is unable to render, please try loading this page with nbviewer.org.</b></div><div class=\"sk-container\" hidden><div class=\"sk-item\"><div class=\"sk-estimator sk-toggleable\"><input class=\"sk-toggleable__control sk-hidden--visually\" id=\"sk-estimator-id-1\" type=\"checkbox\" checked><label for=\"sk-estimator-id-1\" class=\"sk-toggleable__label sk-toggleable__label-arrow\">SVC</label><div class=\"sk-toggleable__content\"><pre>SVC()</pre></div></div></div></div></div>"
      ],
      "text/plain": [
       "SVC()"
      ]
     },
     "execution_count": 58,
     "metadata": {},
     "output_type": "execute_result"
    }
   ],
   "source": [
    "svc.fit(x_train, y_train)"
   ]
  },
  {
   "cell_type": "code",
   "execution_count": 59,
   "id": "b95d20d6",
   "metadata": {
    "execution": {
     "iopub.execute_input": "2023-07-09T17:38:23.098679Z",
     "iopub.status.busy": "2023-07-09T17:38:23.098248Z",
     "iopub.status.idle": "2023-07-09T17:38:23.674384Z",
     "shell.execute_reply": "2023-07-09T17:38:23.673041Z"
    },
    "id": "7zni6LFUDDZz",
    "papermill": {
     "duration": 0.616079,
     "end_time": "2023-07-09T17:38:23.677204",
     "exception": false,
     "start_time": "2023-07-09T17:38:23.061125",
     "status": "completed"
    },
    "tags": []
   },
   "outputs": [],
   "source": [
    "y_pred = svc.predict(x_test)"
   ]
  },
  {
   "cell_type": "markdown",
   "id": "235a6f00",
   "metadata": {
    "id": "wyvAeuJJDNQj",
    "papermill": {
     "duration": 0.035374,
     "end_time": "2023-07-09T17:38:23.749179",
     "exception": false,
     "start_time": "2023-07-09T17:38:23.713805",
     "status": "completed"
    },
    "tags": []
   },
   "source": [
    "**Model Accuracy**"
   ]
  },
  {
   "cell_type": "code",
   "execution_count": 60,
   "id": "93c2eb16",
   "metadata": {
    "execution": {
     "iopub.execute_input": "2023-07-09T17:38:23.822474Z",
     "iopub.status.busy": "2023-07-09T17:38:23.821857Z",
     "iopub.status.idle": "2023-07-09T17:38:23.826608Z",
     "shell.execute_reply": "2023-07-09T17:38:23.825827Z"
    },
    "id": "YGZo7hMoDTAH",
    "papermill": {
     "duration": 0.043976,
     "end_time": "2023-07-09T17:38:23.828848",
     "exception": false,
     "start_time": "2023-07-09T17:38:23.784872",
     "status": "completed"
    },
    "tags": []
   },
   "outputs": [],
   "source": [
    "from sklearn.metrics import confusion_matrix, classification_report"
   ]
  },
  {
   "cell_type": "code",
   "execution_count": 61,
   "id": "b9039ada",
   "metadata": {
    "execution": {
     "iopub.execute_input": "2023-07-09T17:38:23.901638Z",
     "iopub.status.busy": "2023-07-09T17:38:23.901232Z",
     "iopub.status.idle": "2023-07-09T17:38:23.910603Z",
     "shell.execute_reply": "2023-07-09T17:38:23.909652Z"
    },
    "id": "IQbh1Pq5DfmP",
    "outputId": "0732d42a-76a1-49fa-88e3-1b179736147e",
    "papermill": {
     "duration": 0.048693,
     "end_time": "2023-07-09T17:38:23.913068",
     "exception": false,
     "start_time": "2023-07-09T17:38:23.864375",
     "status": "completed"
    },
    "tags": []
   },
   "outputs": [
    {
     "data": {
      "text/plain": [
       "array([[2414,    0],\n",
       "       [ 586,    0]], dtype=int64)"
      ]
     },
     "execution_count": 61,
     "metadata": {},
     "output_type": "execute_result"
    }
   ],
   "source": [
    "confusion_matrix(y_test, y_pred)"
   ]
  },
  {
   "cell_type": "code",
   "execution_count": 62,
   "id": "c6a88215",
   "metadata": {
    "execution": {
     "iopub.execute_input": "2023-07-09T17:38:23.987733Z",
     "iopub.status.busy": "2023-07-09T17:38:23.987307Z",
     "iopub.status.idle": "2023-07-09T17:38:24.010751Z",
     "shell.execute_reply": "2023-07-09T17:38:24.009646Z"
    },
    "id": "5yvCTrHBDo_L",
    "outputId": "13051188-7004-4526-87f2-9562de58d935",
    "papermill": {
     "duration": 0.064062,
     "end_time": "2023-07-09T17:38:24.013567",
     "exception": false,
     "start_time": "2023-07-09T17:38:23.949505",
     "status": "completed"
    },
    "tags": []
   },
   "outputs": [
    {
     "name": "stdout",
     "output_type": "stream",
     "text": [
      "              precision    recall  f1-score   support\n",
      "\n",
      "           0       0.80      1.00      0.89      2414\n",
      "           1       0.00      0.00      0.00       586\n",
      "\n",
      "    accuracy                           0.80      3000\n",
      "   macro avg       0.40      0.50      0.45      3000\n",
      "weighted avg       0.65      0.80      0.72      3000\n",
      "\n"
     ]
    },
    {
     "name": "stderr",
     "output_type": "stream",
     "text": [
      "C:\\Users\\hc782\\AppData\\Local\\Programs\\Python\\Python310\\lib\\site-packages\\sklearn\\metrics\\_classification.py:1344: UndefinedMetricWarning: Precision and F-score are ill-defined and being set to 0.0 in labels with no predicted samples. Use `zero_division` parameter to control this behavior.\n",
      "  _warn_prf(average, modifier, msg_start, len(result))\n",
      "C:\\Users\\hc782\\AppData\\Local\\Programs\\Python\\Python310\\lib\\site-packages\\sklearn\\metrics\\_classification.py:1344: UndefinedMetricWarning: Precision and F-score are ill-defined and being set to 0.0 in labels with no predicted samples. Use `zero_division` parameter to control this behavior.\n",
      "  _warn_prf(average, modifier, msg_start, len(result))\n",
      "C:\\Users\\hc782\\AppData\\Local\\Programs\\Python\\Python310\\lib\\site-packages\\sklearn\\metrics\\_classification.py:1344: UndefinedMetricWarning: Precision and F-score are ill-defined and being set to 0.0 in labels with no predicted samples. Use `zero_division` parameter to control this behavior.\n",
      "  _warn_prf(average, modifier, msg_start, len(result))\n"
     ]
    }
   ],
   "source": [
    "print(classification_report(y_test, y_pred))"
   ]
  },
  {
   "cell_type": "markdown",
   "id": "f0f7fc5a",
   "metadata": {
    "id": "YWNTYApED9l-",
    "papermill": {
     "duration": 0.036918,
     "end_time": "2023-07-09T17:38:24.087336",
     "exception": false,
     "start_time": "2023-07-09T17:38:24.050418",
     "status": "completed"
    },
    "tags": []
   },
   "source": [
    "**Hyperparameter Tunning**"
   ]
  },
  {
   "cell_type": "code",
   "execution_count": 63,
   "id": "27ec97a6",
   "metadata": {
    "execution": {
     "iopub.execute_input": "2023-07-09T17:38:24.162293Z",
     "iopub.status.busy": "2023-07-09T17:38:24.161882Z",
     "iopub.status.idle": "2023-07-09T17:38:24.167026Z",
     "shell.execute_reply": "2023-07-09T17:38:24.165871Z"
    },
    "id": "5EGAIoZdD4Vj",
    "papermill": {
     "duration": 0.045205,
     "end_time": "2023-07-09T17:38:24.169459",
     "exception": false,
     "start_time": "2023-07-09T17:38:24.124254",
     "status": "completed"
    },
    "tags": []
   },
   "outputs": [],
   "source": [
    "from sklearn.model_selection import GridSearchCV"
   ]
  },
  {
   "cell_type": "code",
   "execution_count": 64,
   "id": "446a3e12",
   "metadata": {
    "execution": {
     "iopub.execute_input": "2023-07-09T17:38:24.246136Z",
     "iopub.status.busy": "2023-07-09T17:38:24.245177Z",
     "iopub.status.idle": "2023-07-09T17:38:24.250542Z",
     "shell.execute_reply": "2023-07-09T17:38:24.249644Z"
    },
    "id": "3oWUHlw8EMC5",
    "papermill": {
     "duration": 0.045983,
     "end_time": "2023-07-09T17:38:24.253025",
     "exception": false,
     "start_time": "2023-07-09T17:38:24.207042",
     "status": "completed"
    },
    "tags": []
   },
   "outputs": [],
   "source": [
    "param_grid = {'C':[0.1,1,10],\n",
    "              'gamma': [1,0.1,0.01],\n",
    "              'kernel':['rbf'],\n",
    "              'class_weight':['balanced']}"
   ]
  },
  {
   "cell_type": "code",
   "execution_count": 65,
   "id": "7bbf02fc",
   "metadata": {
    "execution": {
     "iopub.execute_input": "2023-07-09T17:38:24.329846Z",
     "iopub.status.busy": "2023-07-09T17:38:24.329157Z",
     "iopub.status.idle": "2023-07-09T17:38:56.977124Z",
     "shell.execute_reply": "2023-07-09T17:38:56.975660Z"
    },
    "id": "VHaA0jfPEu9e",
    "outputId": "bc8da733-92e7-46ff-f95f-98fa43cff01e",
    "papermill": {
     "duration": 32.727705,
     "end_time": "2023-07-09T17:38:57.018630",
     "exception": false,
     "start_time": "2023-07-09T17:38:24.290925",
     "status": "completed"
    },
    "tags": []
   },
   "outputs": [
    {
     "name": "stdout",
     "output_type": "stream",
     "text": [
      "Fitting 2 folds for each of 9 candidates, totalling 18 fits\n",
      "[CV] END ..C=0.1, class_weight=balanced, gamma=1, kernel=rbf; total time=   7.0s\n",
      "[CV] END ..C=0.1, class_weight=balanced, gamma=1, kernel=rbf; total time=   9.0s\n",
      "[CV] END C=0.1, class_weight=balanced, gamma=0.1, kernel=rbf; total time=   8.2s\n",
      "[CV] END C=0.1, class_weight=balanced, gamma=0.1, kernel=rbf; total time=   8.7s\n",
      "[CV] END C=0.1, class_weight=balanced, gamma=0.01, kernel=rbf; total time=   9.3s\n",
      "[CV] END C=0.1, class_weight=balanced, gamma=0.01, kernel=rbf; total time=   9.0s\n",
      "[CV] END ....C=1, class_weight=balanced, gamma=1, kernel=rbf; total time=   6.7s\n",
      "[CV] END ....C=1, class_weight=balanced, gamma=1, kernel=rbf; total time=   6.1s\n",
      "[CV] END ..C=1, class_weight=balanced, gamma=0.1, kernel=rbf; total time=   6.2s\n",
      "[CV] END ..C=1, class_weight=balanced, gamma=0.1, kernel=rbf; total time=   6.3s\n",
      "[CV] END .C=1, class_weight=balanced, gamma=0.01, kernel=rbf; total time=   6.2s\n",
      "[CV] END .C=1, class_weight=balanced, gamma=0.01, kernel=rbf; total time=   6.4s\n",
      "[CV] END ...C=10, class_weight=balanced, gamma=1, kernel=rbf; total time=   6.4s\n",
      "[CV] END ...C=10, class_weight=balanced, gamma=1, kernel=rbf; total time=   6.3s\n",
      "[CV] END .C=10, class_weight=balanced, gamma=0.1, kernel=rbf; total time=   6.4s\n",
      "[CV] END .C=10, class_weight=balanced, gamma=0.1, kernel=rbf; total time=   6.9s\n",
      "[CV] END C=10, class_weight=balanced, gamma=0.01, kernel=rbf; total time=   6.6s\n",
      "[CV] END C=10, class_weight=balanced, gamma=0.01, kernel=rbf; total time=   6.1s\n"
     ]
    },
    {
     "data": {
      "text/html": [
       "<style>#sk-container-id-2 {color: black;background-color: white;}#sk-container-id-2 pre{padding: 0;}#sk-container-id-2 div.sk-toggleable {background-color: white;}#sk-container-id-2 label.sk-toggleable__label {cursor: pointer;display: block;width: 100%;margin-bottom: 0;padding: 0.3em;box-sizing: border-box;text-align: center;}#sk-container-id-2 label.sk-toggleable__label-arrow:before {content: \"▸\";float: left;margin-right: 0.25em;color: #696969;}#sk-container-id-2 label.sk-toggleable__label-arrow:hover:before {color: black;}#sk-container-id-2 div.sk-estimator:hover label.sk-toggleable__label-arrow:before {color: black;}#sk-container-id-2 div.sk-toggleable__content {max-height: 0;max-width: 0;overflow: hidden;text-align: left;background-color: #f0f8ff;}#sk-container-id-2 div.sk-toggleable__content pre {margin: 0.2em;color: black;border-radius: 0.25em;background-color: #f0f8ff;}#sk-container-id-2 input.sk-toggleable__control:checked~div.sk-toggleable__content {max-height: 200px;max-width: 100%;overflow: auto;}#sk-container-id-2 input.sk-toggleable__control:checked~label.sk-toggleable__label-arrow:before {content: \"▾\";}#sk-container-id-2 div.sk-estimator input.sk-toggleable__control:checked~label.sk-toggleable__label {background-color: #d4ebff;}#sk-container-id-2 div.sk-label input.sk-toggleable__control:checked~label.sk-toggleable__label {background-color: #d4ebff;}#sk-container-id-2 input.sk-hidden--visually {border: 0;clip: rect(1px 1px 1px 1px);clip: rect(1px, 1px, 1px, 1px);height: 1px;margin: -1px;overflow: hidden;padding: 0;position: absolute;width: 1px;}#sk-container-id-2 div.sk-estimator {font-family: monospace;background-color: #f0f8ff;border: 1px dotted black;border-radius: 0.25em;box-sizing: border-box;margin-bottom: 0.5em;}#sk-container-id-2 div.sk-estimator:hover {background-color: #d4ebff;}#sk-container-id-2 div.sk-parallel-item::after {content: \"\";width: 100%;border-bottom: 1px solid gray;flex-grow: 1;}#sk-container-id-2 div.sk-label:hover label.sk-toggleable__label {background-color: #d4ebff;}#sk-container-id-2 div.sk-serial::before {content: \"\";position: absolute;border-left: 1px solid gray;box-sizing: border-box;top: 0;bottom: 0;left: 50%;z-index: 0;}#sk-container-id-2 div.sk-serial {display: flex;flex-direction: column;align-items: center;background-color: white;padding-right: 0.2em;padding-left: 0.2em;position: relative;}#sk-container-id-2 div.sk-item {position: relative;z-index: 1;}#sk-container-id-2 div.sk-parallel {display: flex;align-items: stretch;justify-content: center;background-color: white;position: relative;}#sk-container-id-2 div.sk-item::before, #sk-container-id-2 div.sk-parallel-item::before {content: \"\";position: absolute;border-left: 1px solid gray;box-sizing: border-box;top: 0;bottom: 0;left: 50%;z-index: -1;}#sk-container-id-2 div.sk-parallel-item {display: flex;flex-direction: column;z-index: 1;position: relative;background-color: white;}#sk-container-id-2 div.sk-parallel-item:first-child::after {align-self: flex-end;width: 50%;}#sk-container-id-2 div.sk-parallel-item:last-child::after {align-self: flex-start;width: 50%;}#sk-container-id-2 div.sk-parallel-item:only-child::after {width: 0;}#sk-container-id-2 div.sk-dashed-wrapped {border: 1px dashed gray;margin: 0 0.4em 0.5em 0.4em;box-sizing: border-box;padding-bottom: 0.4em;background-color: white;}#sk-container-id-2 div.sk-label label {font-family: monospace;font-weight: bold;display: inline-block;line-height: 1.2em;}#sk-container-id-2 div.sk-label-container {text-align: center;}#sk-container-id-2 div.sk-container {/* jupyter's `normalize.less` sets `[hidden] { display: none; }` but bootstrap.min.css set `[hidden] { display: none !important; }` so we also need the `!important` here to be able to override the default hidden behavior on the sphinx rendered scikit-learn.org. See: https://github.com/scikit-learn/scikit-learn/issues/21755 */display: inline-block !important;position: relative;}#sk-container-id-2 div.sk-text-repr-fallback {display: none;}</style><div id=\"sk-container-id-2\" class=\"sk-top-container\"><div class=\"sk-text-repr-fallback\"><pre>GridSearchCV(cv=2, estimator=SVC(),\n",
       "             param_grid={&#x27;C&#x27;: [0.1, 1, 10], &#x27;class_weight&#x27;: [&#x27;balanced&#x27;],\n",
       "                         &#x27;gamma&#x27;: [1, 0.1, 0.01], &#x27;kernel&#x27;: [&#x27;rbf&#x27;]},\n",
       "             verbose=2)</pre><b>In a Jupyter environment, please rerun this cell to show the HTML representation or trust the notebook. <br />On GitHub, the HTML representation is unable to render, please try loading this page with nbviewer.org.</b></div><div class=\"sk-container\" hidden><div class=\"sk-item sk-dashed-wrapped\"><div class=\"sk-label-container\"><div class=\"sk-label sk-toggleable\"><input class=\"sk-toggleable__control sk-hidden--visually\" id=\"sk-estimator-id-2\" type=\"checkbox\" ><label for=\"sk-estimator-id-2\" class=\"sk-toggleable__label sk-toggleable__label-arrow\">GridSearchCV</label><div class=\"sk-toggleable__content\"><pre>GridSearchCV(cv=2, estimator=SVC(),\n",
       "             param_grid={&#x27;C&#x27;: [0.1, 1, 10], &#x27;class_weight&#x27;: [&#x27;balanced&#x27;],\n",
       "                         &#x27;gamma&#x27;: [1, 0.1, 0.01], &#x27;kernel&#x27;: [&#x27;rbf&#x27;]},\n",
       "             verbose=2)</pre></div></div></div><div class=\"sk-parallel\"><div class=\"sk-parallel-item\"><div class=\"sk-item\"><div class=\"sk-label-container\"><div class=\"sk-label sk-toggleable\"><input class=\"sk-toggleable__control sk-hidden--visually\" id=\"sk-estimator-id-3\" type=\"checkbox\" ><label for=\"sk-estimator-id-3\" class=\"sk-toggleable__label sk-toggleable__label-arrow\">estimator: SVC</label><div class=\"sk-toggleable__content\"><pre>SVC()</pre></div></div></div><div class=\"sk-serial\"><div class=\"sk-item\"><div class=\"sk-estimator sk-toggleable\"><input class=\"sk-toggleable__control sk-hidden--visually\" id=\"sk-estimator-id-4\" type=\"checkbox\" ><label for=\"sk-estimator-id-4\" class=\"sk-toggleable__label sk-toggleable__label-arrow\">SVC</label><div class=\"sk-toggleable__content\"><pre>SVC()</pre></div></div></div></div></div></div></div></div></div></div>"
      ],
      "text/plain": [
       "GridSearchCV(cv=2, estimator=SVC(),\n",
       "             param_grid={'C': [0.1, 1, 10], 'class_weight': ['balanced'],\n",
       "                         'gamma': [1, 0.1, 0.01], 'kernel': ['rbf']},\n",
       "             verbose=2)"
      ]
     },
     "execution_count": 65,
     "metadata": {},
     "output_type": "execute_result"
    }
   ],
   "source": [
    "grid =  GridSearchCV(SVC(),param_grid,refit=True,verbose=2, cv = 2)\n",
    "grid.fit(x_train,y_train)"
   ]
  },
  {
   "cell_type": "code",
   "execution_count": 66,
   "id": "b9d4b227",
   "metadata": {
    "execution": {
     "iopub.execute_input": "2023-07-09T17:38:57.098478Z",
     "iopub.status.busy": "2023-07-09T17:38:57.098083Z",
     "iopub.status.idle": "2023-07-09T17:38:57.104840Z",
     "shell.execute_reply": "2023-07-09T17:38:57.103614Z"
    },
    "id": "1ynGVCxUFIvs",
    "outputId": "b584a461-f962-41f0-bb45-d3c462e5637c",
    "papermill": {
     "duration": 0.050228,
     "end_time": "2023-07-09T17:38:57.107491",
     "exception": false,
     "start_time": "2023-07-09T17:38:57.057263",
     "status": "completed"
    },
    "tags": []
   },
   "outputs": [
    {
     "name": "stdout",
     "output_type": "stream",
     "text": [
      "SVC(C=1, class_weight='balanced', gamma=1)\n"
     ]
    }
   ],
   "source": [
    "print(grid.best_estimator_)"
   ]
  },
  {
   "cell_type": "code",
   "execution_count": 67,
   "id": "26e60913",
   "metadata": {
    "execution": {
     "iopub.execute_input": "2023-07-09T17:38:57.187653Z",
     "iopub.status.busy": "2023-07-09T17:38:57.187190Z",
     "iopub.status.idle": "2023-07-09T17:38:58.643102Z",
     "shell.execute_reply": "2023-07-09T17:38:58.641878Z"
    },
    "id": "TwLTC5bSFcte",
    "papermill": {
     "duration": 1.499063,
     "end_time": "2023-07-09T17:38:58.645995",
     "exception": false,
     "start_time": "2023-07-09T17:38:57.146932",
     "status": "completed"
    },
    "tags": []
   },
   "outputs": [],
   "source": [
    "grid_prediction = grid.predict(x_test)"
   ]
  },
  {
   "cell_type": "code",
   "execution_count": 68,
   "id": "3918ba84",
   "metadata": {
    "execution": {
     "iopub.execute_input": "2023-07-09T17:38:58.728379Z",
     "iopub.status.busy": "2023-07-09T17:38:58.727976Z",
     "iopub.status.idle": "2023-07-09T17:38:58.736829Z",
     "shell.execute_reply": "2023-07-09T17:38:58.736033Z"
    },
    "id": "sHyUrZQlFmQG",
    "outputId": "4634c2fa-c6ca-4b8b-ad56-510c864fb33d",
    "papermill": {
     "duration": 0.05209,
     "end_time": "2023-07-09T17:38:58.739017",
     "exception": false,
     "start_time": "2023-07-09T17:38:58.686927",
     "status": "completed"
    },
    "tags": []
   },
   "outputs": [
    {
     "data": {
      "text/plain": [
       "array([[2414,    0],\n",
       "       [ 586,    0]], dtype=int64)"
      ]
     },
     "execution_count": 68,
     "metadata": {},
     "output_type": "execute_result"
    }
   ],
   "source": [
    "confusion_matrix(y_test,grid_prediction)"
   ]
  },
  {
   "cell_type": "code",
   "execution_count": 69,
   "id": "7ceb451d",
   "metadata": {
    "execution": {
     "iopub.execute_input": "2023-07-09T17:38:58.820139Z",
     "iopub.status.busy": "2023-07-09T17:38:58.819737Z",
     "iopub.status.idle": "2023-07-09T17:38:58.837957Z",
     "shell.execute_reply": "2023-07-09T17:38:58.836757Z"
    },
    "id": "CnKCCSz0Fxoi",
    "outputId": "81955a30-0a1f-42ef-9738-6e8c97f41328",
    "papermill": {
     "duration": 0.063157,
     "end_time": "2023-07-09T17:38:58.841000",
     "exception": false,
     "start_time": "2023-07-09T17:38:58.777843",
     "status": "completed"
    },
    "tags": []
   },
   "outputs": [
    {
     "name": "stdout",
     "output_type": "stream",
     "text": [
      "              precision    recall  f1-score   support\n",
      "\n",
      "           0       0.80      1.00      0.89      2414\n",
      "           1       0.00      0.00      0.00       586\n",
      "\n",
      "    accuracy                           0.80      3000\n",
      "   macro avg       0.40      0.50      0.45      3000\n",
      "weighted avg       0.65      0.80      0.72      3000\n",
      "\n"
     ]
    },
    {
     "name": "stderr",
     "output_type": "stream",
     "text": [
      "C:\\Users\\hc782\\AppData\\Local\\Programs\\Python\\Python310\\lib\\site-packages\\sklearn\\metrics\\_classification.py:1344: UndefinedMetricWarning: Precision and F-score are ill-defined and being set to 0.0 in labels with no predicted samples. Use `zero_division` parameter to control this behavior.\n",
      "  _warn_prf(average, modifier, msg_start, len(result))\n",
      "C:\\Users\\hc782\\AppData\\Local\\Programs\\Python\\Python310\\lib\\site-packages\\sklearn\\metrics\\_classification.py:1344: UndefinedMetricWarning: Precision and F-score are ill-defined and being set to 0.0 in labels with no predicted samples. Use `zero_division` parameter to control this behavior.\n",
      "  _warn_prf(average, modifier, msg_start, len(result))\n",
      "C:\\Users\\hc782\\AppData\\Local\\Programs\\Python\\Python310\\lib\\site-packages\\sklearn\\metrics\\_classification.py:1344: UndefinedMetricWarning: Precision and F-score are ill-defined and being set to 0.0 in labels with no predicted samples. Use `zero_division` parameter to control this behavior.\n",
      "  _warn_prf(average, modifier, msg_start, len(result))\n"
     ]
    }
   ],
   "source": [
    "print(classification_report(y_test,grid_prediction))"
   ]
  },
  {
   "cell_type": "markdown",
   "id": "1c3f3780",
   "metadata": {
    "id": "u1jrjzAfF_Gm",
    "papermill": {
     "duration": 0.039505,
     "end_time": "2023-07-09T17:38:58.919820",
     "exception": false,
     "start_time": "2023-07-09T17:38:58.880315",
     "status": "completed"
    },
    "tags": []
   },
   "source": [
    "**Model with Random Under Sampling**"
   ]
  },
  {
   "cell_type": "code",
   "execution_count": 70,
   "id": "90c9ad53",
   "metadata": {
    "execution": {
     "iopub.execute_input": "2023-07-09T17:38:59.000835Z",
     "iopub.status.busy": "2023-07-09T17:38:59.000162Z",
     "iopub.status.idle": "2023-07-09T17:38:59.005408Z",
     "shell.execute_reply": "2023-07-09T17:38:59.004235Z"
    },
    "id": "rdBDDPm4F68v",
    "papermill": {
     "duration": 0.04862,
     "end_time": "2023-07-09T17:38:59.007770",
     "exception": false,
     "start_time": "2023-07-09T17:38:58.959150",
     "status": "completed"
    },
    "tags": []
   },
   "outputs": [],
   "source": [
    "svc_rus = SVC()"
   ]
  },
  {
   "cell_type": "code",
   "execution_count": 71,
   "id": "726f920b",
   "metadata": {
    "execution": {
     "iopub.execute_input": "2023-07-09T17:38:59.088419Z",
     "iopub.status.busy": "2023-07-09T17:38:59.087985Z",
     "iopub.status.idle": "2023-07-09T17:38:59.524158Z",
     "shell.execute_reply": "2023-07-09T17:38:59.522654Z"
    },
    "id": "xTzjDvc8GKxC",
    "outputId": "c766bf6c-ccc8-45b6-8368-50d0e3cbd0fa",
    "papermill": {
     "duration": 0.479955,
     "end_time": "2023-07-09T17:38:59.526956",
     "exception": false,
     "start_time": "2023-07-09T17:38:59.047001",
     "status": "completed"
    },
    "tags": []
   },
   "outputs": [
    {
     "data": {
      "text/html": [
       "<style>#sk-container-id-3 {color: black;background-color: white;}#sk-container-id-3 pre{padding: 0;}#sk-container-id-3 div.sk-toggleable {background-color: white;}#sk-container-id-3 label.sk-toggleable__label {cursor: pointer;display: block;width: 100%;margin-bottom: 0;padding: 0.3em;box-sizing: border-box;text-align: center;}#sk-container-id-3 label.sk-toggleable__label-arrow:before {content: \"▸\";float: left;margin-right: 0.25em;color: #696969;}#sk-container-id-3 label.sk-toggleable__label-arrow:hover:before {color: black;}#sk-container-id-3 div.sk-estimator:hover label.sk-toggleable__label-arrow:before {color: black;}#sk-container-id-3 div.sk-toggleable__content {max-height: 0;max-width: 0;overflow: hidden;text-align: left;background-color: #f0f8ff;}#sk-container-id-3 div.sk-toggleable__content pre {margin: 0.2em;color: black;border-radius: 0.25em;background-color: #f0f8ff;}#sk-container-id-3 input.sk-toggleable__control:checked~div.sk-toggleable__content {max-height: 200px;max-width: 100%;overflow: auto;}#sk-container-id-3 input.sk-toggleable__control:checked~label.sk-toggleable__label-arrow:before {content: \"▾\";}#sk-container-id-3 div.sk-estimator input.sk-toggleable__control:checked~label.sk-toggleable__label {background-color: #d4ebff;}#sk-container-id-3 div.sk-label input.sk-toggleable__control:checked~label.sk-toggleable__label {background-color: #d4ebff;}#sk-container-id-3 input.sk-hidden--visually {border: 0;clip: rect(1px 1px 1px 1px);clip: rect(1px, 1px, 1px, 1px);height: 1px;margin: -1px;overflow: hidden;padding: 0;position: absolute;width: 1px;}#sk-container-id-3 div.sk-estimator {font-family: monospace;background-color: #f0f8ff;border: 1px dotted black;border-radius: 0.25em;box-sizing: border-box;margin-bottom: 0.5em;}#sk-container-id-3 div.sk-estimator:hover {background-color: #d4ebff;}#sk-container-id-3 div.sk-parallel-item::after {content: \"\";width: 100%;border-bottom: 1px solid gray;flex-grow: 1;}#sk-container-id-3 div.sk-label:hover label.sk-toggleable__label {background-color: #d4ebff;}#sk-container-id-3 div.sk-serial::before {content: \"\";position: absolute;border-left: 1px solid gray;box-sizing: border-box;top: 0;bottom: 0;left: 50%;z-index: 0;}#sk-container-id-3 div.sk-serial {display: flex;flex-direction: column;align-items: center;background-color: white;padding-right: 0.2em;padding-left: 0.2em;position: relative;}#sk-container-id-3 div.sk-item {position: relative;z-index: 1;}#sk-container-id-3 div.sk-parallel {display: flex;align-items: stretch;justify-content: center;background-color: white;position: relative;}#sk-container-id-3 div.sk-item::before, #sk-container-id-3 div.sk-parallel-item::before {content: \"\";position: absolute;border-left: 1px solid gray;box-sizing: border-box;top: 0;bottom: 0;left: 50%;z-index: -1;}#sk-container-id-3 div.sk-parallel-item {display: flex;flex-direction: column;z-index: 1;position: relative;background-color: white;}#sk-container-id-3 div.sk-parallel-item:first-child::after {align-self: flex-end;width: 50%;}#sk-container-id-3 div.sk-parallel-item:last-child::after {align-self: flex-start;width: 50%;}#sk-container-id-3 div.sk-parallel-item:only-child::after {width: 0;}#sk-container-id-3 div.sk-dashed-wrapped {border: 1px dashed gray;margin: 0 0.4em 0.5em 0.4em;box-sizing: border-box;padding-bottom: 0.4em;background-color: white;}#sk-container-id-3 div.sk-label label {font-family: monospace;font-weight: bold;display: inline-block;line-height: 1.2em;}#sk-container-id-3 div.sk-label-container {text-align: center;}#sk-container-id-3 div.sk-container {/* jupyter's `normalize.less` sets `[hidden] { display: none; }` but bootstrap.min.css set `[hidden] { display: none !important; }` so we also need the `!important` here to be able to override the default hidden behavior on the sphinx rendered scikit-learn.org. See: https://github.com/scikit-learn/scikit-learn/issues/21755 */display: inline-block !important;position: relative;}#sk-container-id-3 div.sk-text-repr-fallback {display: none;}</style><div id=\"sk-container-id-3\" class=\"sk-top-container\"><div class=\"sk-text-repr-fallback\"><pre>SVC()</pre><b>In a Jupyter environment, please rerun this cell to show the HTML representation or trust the notebook. <br />On GitHub, the HTML representation is unable to render, please try loading this page with nbviewer.org.</b></div><div class=\"sk-container\" hidden><div class=\"sk-item\"><div class=\"sk-estimator sk-toggleable\"><input class=\"sk-toggleable__control sk-hidden--visually\" id=\"sk-estimator-id-5\" type=\"checkbox\" checked><label for=\"sk-estimator-id-5\" class=\"sk-toggleable__label sk-toggleable__label-arrow\">SVC</label><div class=\"sk-toggleable__content\"><pre>SVC()</pre></div></div></div></div></div>"
      ],
      "text/plain": [
       "SVC()"
      ]
     },
     "execution_count": 71,
     "metadata": {},
     "output_type": "execute_result"
    }
   ],
   "source": [
    "svc_rus.fit(x_train_rus, y_train_rus)"
   ]
  },
  {
   "cell_type": "code",
   "execution_count": 72,
   "id": "9e2d452a",
   "metadata": {
    "execution": {
     "iopub.execute_input": "2023-07-09T17:38:59.612082Z",
     "iopub.status.busy": "2023-07-09T17:38:59.611663Z",
     "iopub.status.idle": "2023-07-09T17:38:59.835711Z",
     "shell.execute_reply": "2023-07-09T17:38:59.834488Z"
    },
    "id": "tZyvH7lbGZPq",
    "papermill": {
     "duration": 0.2696,
     "end_time": "2023-07-09T17:38:59.838620",
     "exception": false,
     "start_time": "2023-07-09T17:38:59.569020",
     "status": "completed"
    },
    "tags": []
   },
   "outputs": [],
   "source": [
    "y_pred_rus= svc_rus.predict(x_test_rus)"
   ]
  },
  {
   "cell_type": "markdown",
   "id": "d60034a7",
   "metadata": {
    "id": "ZV9rbl1SGs9i",
    "papermill": {
     "duration": 0.040519,
     "end_time": "2023-07-09T17:38:59.920165",
     "exception": false,
     "start_time": "2023-07-09T17:38:59.879646",
     "status": "completed"
    },
    "tags": []
   },
   "source": [
    "**Model Accuracy**"
   ]
  },
  {
   "cell_type": "code",
   "execution_count": 73,
   "id": "38536518",
   "metadata": {
    "execution": {
     "iopub.execute_input": "2023-07-09T17:39:00.005092Z",
     "iopub.status.busy": "2023-07-09T17:39:00.004636Z",
     "iopub.status.idle": "2023-07-09T17:39:00.016372Z",
     "shell.execute_reply": "2023-07-09T17:39:00.014916Z"
    },
    "id": "rnqJdVh-GreS",
    "outputId": "fdbeb179-3bdc-4c0c-b97e-fefa91cf366c",
    "papermill": {
     "duration": 0.057381,
     "end_time": "2023-07-09T17:39:00.018770",
     "exception": false,
     "start_time": "2023-07-09T17:38:59.961389",
     "status": "completed"
    },
    "tags": []
   },
   "outputs": [
    {
     "data": {
      "text/plain": [
       "array([[  0, 633],\n",
       "       [  0, 590]], dtype=int64)"
      ]
     },
     "execution_count": 73,
     "metadata": {},
     "output_type": "execute_result"
    }
   ],
   "source": [
    "confusion_matrix(y_test_rus,y_pred_rus)"
   ]
  },
  {
   "cell_type": "code",
   "execution_count": 74,
   "id": "0b0e1000",
   "metadata": {
    "execution": {
     "iopub.execute_input": "2023-07-09T17:39:00.100925Z",
     "iopub.status.busy": "2023-07-09T17:39:00.100515Z",
     "iopub.status.idle": "2023-07-09T17:39:00.118392Z",
     "shell.execute_reply": "2023-07-09T17:39:00.117247Z"
    },
    "id": "OyBm_dULG7Wf",
    "outputId": "39e3a4c2-e341-4ad4-c917-c68708c71937",
    "papermill": {
     "duration": 0.062512,
     "end_time": "2023-07-09T17:39:00.121523",
     "exception": false,
     "start_time": "2023-07-09T17:39:00.059011",
     "status": "completed"
    },
    "tags": []
   },
   "outputs": [
    {
     "name": "stdout",
     "output_type": "stream",
     "text": [
      "              precision    recall  f1-score   support\n",
      "\n",
      "           0       0.00      0.00      0.00       633\n",
      "           1       0.48      1.00      0.65       590\n",
      "\n",
      "    accuracy                           0.48      1223\n",
      "   macro avg       0.24      0.50      0.33      1223\n",
      "weighted avg       0.23      0.48      0.31      1223\n",
      "\n"
     ]
    },
    {
     "name": "stderr",
     "output_type": "stream",
     "text": [
      "C:\\Users\\hc782\\AppData\\Local\\Programs\\Python\\Python310\\lib\\site-packages\\sklearn\\metrics\\_classification.py:1344: UndefinedMetricWarning: Precision and F-score are ill-defined and being set to 0.0 in labels with no predicted samples. Use `zero_division` parameter to control this behavior.\n",
      "  _warn_prf(average, modifier, msg_start, len(result))\n",
      "C:\\Users\\hc782\\AppData\\Local\\Programs\\Python\\Python310\\lib\\site-packages\\sklearn\\metrics\\_classification.py:1344: UndefinedMetricWarning: Precision and F-score are ill-defined and being set to 0.0 in labels with no predicted samples. Use `zero_division` parameter to control this behavior.\n",
      "  _warn_prf(average, modifier, msg_start, len(result))\n",
      "C:\\Users\\hc782\\AppData\\Local\\Programs\\Python\\Python310\\lib\\site-packages\\sklearn\\metrics\\_classification.py:1344: UndefinedMetricWarning: Precision and F-score are ill-defined and being set to 0.0 in labels with no predicted samples. Use `zero_division` parameter to control this behavior.\n",
      "  _warn_prf(average, modifier, msg_start, len(result))\n"
     ]
    }
   ],
   "source": [
    "print(classification_report(y_test_rus, y_pred_rus))"
   ]
  },
  {
   "cell_type": "markdown",
   "id": "f050addf",
   "metadata": {
    "id": "rFIoiW1imUjE",
    "papermill": {
     "duration": 0.041351,
     "end_time": "2023-07-09T17:39:00.204917",
     "exception": false,
     "start_time": "2023-07-09T17:39:00.163566",
     "status": "completed"
    },
    "tags": []
   },
   "source": [
    "**Hyperparameter Tunning**"
   ]
  },
  {
   "cell_type": "code",
   "execution_count": 75,
   "id": "eb03f925",
   "metadata": {
    "execution": {
     "iopub.execute_input": "2023-07-09T17:39:00.289137Z",
     "iopub.status.busy": "2023-07-09T17:39:00.288728Z",
     "iopub.status.idle": "2023-07-09T17:39:00.294679Z",
     "shell.execute_reply": "2023-07-09T17:39:00.293373Z"
    },
    "id": "Axia_0LsmEgh",
    "papermill": {
     "duration": 0.05005,
     "end_time": "2023-07-09T17:39:00.296971",
     "exception": false,
     "start_time": "2023-07-09T17:39:00.246921",
     "status": "completed"
    },
    "tags": []
   },
   "outputs": [],
   "source": [
    "param_grid = {'C':[0.1,1,10],\n",
    "              'gamma': [1,0.1,0.01],\n",
    "              'kernel':['rbf'],\n",
    "              'class_weight':['balanced']}"
   ]
  },
  {
   "cell_type": "code",
   "execution_count": 76,
   "id": "3399cbed",
   "metadata": {
    "execution": {
     "iopub.execute_input": "2023-07-09T17:39:00.382448Z",
     "iopub.status.busy": "2023-07-09T17:39:00.381787Z",
     "iopub.status.idle": "2023-07-09T17:39:05.727616Z",
     "shell.execute_reply": "2023-07-09T17:39:05.726394Z"
    },
    "id": "rd6xNzWel2LP",
    "outputId": "3de97511-82e0-49b2-e8b5-f42df0d66b6e",
    "papermill": {
     "duration": 5.391267,
     "end_time": "2023-07-09T17:39:05.730053",
     "exception": false,
     "start_time": "2023-07-09T17:39:00.338786",
     "status": "completed"
    },
    "tags": []
   },
   "outputs": [
    {
     "name": "stdout",
     "output_type": "stream",
     "text": [
      "Fitting 2 folds for each of 9 candidates, totalling 18 fits\n",
      "[CV] END ..C=0.1, class_weight=balanced, gamma=1, kernel=rbf; total time=   1.0s\n",
      "[CV] END ..C=0.1, class_weight=balanced, gamma=1, kernel=rbf; total time=   1.0s\n",
      "[CV] END C=0.1, class_weight=balanced, gamma=0.1, kernel=rbf; total time=   0.9s\n",
      "[CV] END C=0.1, class_weight=balanced, gamma=0.1, kernel=rbf; total time=   0.9s\n",
      "[CV] END C=0.1, class_weight=balanced, gamma=0.01, kernel=rbf; total time=   0.9s\n",
      "[CV] END C=0.1, class_weight=balanced, gamma=0.01, kernel=rbf; total time=   0.9s\n",
      "[CV] END ....C=1, class_weight=balanced, gamma=1, kernel=rbf; total time=   0.9s\n",
      "[CV] END ....C=1, class_weight=balanced, gamma=1, kernel=rbf; total time=   0.9s\n",
      "[CV] END ..C=1, class_weight=balanced, gamma=0.1, kernel=rbf; total time=   0.9s\n",
      "[CV] END ..C=1, class_weight=balanced, gamma=0.1, kernel=rbf; total time=   0.9s\n",
      "[CV] END .C=1, class_weight=balanced, gamma=0.01, kernel=rbf; total time=   1.0s\n",
      "[CV] END .C=1, class_weight=balanced, gamma=0.01, kernel=rbf; total time=   0.9s\n",
      "[CV] END ...C=10, class_weight=balanced, gamma=1, kernel=rbf; total time=   0.9s\n",
      "[CV] END ...C=10, class_weight=balanced, gamma=1, kernel=rbf; total time=   0.9s\n",
      "[CV] END .C=10, class_weight=balanced, gamma=0.1, kernel=rbf; total time=   0.9s\n",
      "[CV] END .C=10, class_weight=balanced, gamma=0.1, kernel=rbf; total time=   0.9s\n",
      "[CV] END C=10, class_weight=balanced, gamma=0.01, kernel=rbf; total time=   1.0s\n",
      "[CV] END C=10, class_weight=balanced, gamma=0.01, kernel=rbf; total time=   0.9s\n"
     ]
    },
    {
     "data": {
      "text/html": [
       "<style>#sk-container-id-4 {color: black;background-color: white;}#sk-container-id-4 pre{padding: 0;}#sk-container-id-4 div.sk-toggleable {background-color: white;}#sk-container-id-4 label.sk-toggleable__label {cursor: pointer;display: block;width: 100%;margin-bottom: 0;padding: 0.3em;box-sizing: border-box;text-align: center;}#sk-container-id-4 label.sk-toggleable__label-arrow:before {content: \"▸\";float: left;margin-right: 0.25em;color: #696969;}#sk-container-id-4 label.sk-toggleable__label-arrow:hover:before {color: black;}#sk-container-id-4 div.sk-estimator:hover label.sk-toggleable__label-arrow:before {color: black;}#sk-container-id-4 div.sk-toggleable__content {max-height: 0;max-width: 0;overflow: hidden;text-align: left;background-color: #f0f8ff;}#sk-container-id-4 div.sk-toggleable__content pre {margin: 0.2em;color: black;border-radius: 0.25em;background-color: #f0f8ff;}#sk-container-id-4 input.sk-toggleable__control:checked~div.sk-toggleable__content {max-height: 200px;max-width: 100%;overflow: auto;}#sk-container-id-4 input.sk-toggleable__control:checked~label.sk-toggleable__label-arrow:before {content: \"▾\";}#sk-container-id-4 div.sk-estimator input.sk-toggleable__control:checked~label.sk-toggleable__label {background-color: #d4ebff;}#sk-container-id-4 div.sk-label input.sk-toggleable__control:checked~label.sk-toggleable__label {background-color: #d4ebff;}#sk-container-id-4 input.sk-hidden--visually {border: 0;clip: rect(1px 1px 1px 1px);clip: rect(1px, 1px, 1px, 1px);height: 1px;margin: -1px;overflow: hidden;padding: 0;position: absolute;width: 1px;}#sk-container-id-4 div.sk-estimator {font-family: monospace;background-color: #f0f8ff;border: 1px dotted black;border-radius: 0.25em;box-sizing: border-box;margin-bottom: 0.5em;}#sk-container-id-4 div.sk-estimator:hover {background-color: #d4ebff;}#sk-container-id-4 div.sk-parallel-item::after {content: \"\";width: 100%;border-bottom: 1px solid gray;flex-grow: 1;}#sk-container-id-4 div.sk-label:hover label.sk-toggleable__label {background-color: #d4ebff;}#sk-container-id-4 div.sk-serial::before {content: \"\";position: absolute;border-left: 1px solid gray;box-sizing: border-box;top: 0;bottom: 0;left: 50%;z-index: 0;}#sk-container-id-4 div.sk-serial {display: flex;flex-direction: column;align-items: center;background-color: white;padding-right: 0.2em;padding-left: 0.2em;position: relative;}#sk-container-id-4 div.sk-item {position: relative;z-index: 1;}#sk-container-id-4 div.sk-parallel {display: flex;align-items: stretch;justify-content: center;background-color: white;position: relative;}#sk-container-id-4 div.sk-item::before, #sk-container-id-4 div.sk-parallel-item::before {content: \"\";position: absolute;border-left: 1px solid gray;box-sizing: border-box;top: 0;bottom: 0;left: 50%;z-index: -1;}#sk-container-id-4 div.sk-parallel-item {display: flex;flex-direction: column;z-index: 1;position: relative;background-color: white;}#sk-container-id-4 div.sk-parallel-item:first-child::after {align-self: flex-end;width: 50%;}#sk-container-id-4 div.sk-parallel-item:last-child::after {align-self: flex-start;width: 50%;}#sk-container-id-4 div.sk-parallel-item:only-child::after {width: 0;}#sk-container-id-4 div.sk-dashed-wrapped {border: 1px dashed gray;margin: 0 0.4em 0.5em 0.4em;box-sizing: border-box;padding-bottom: 0.4em;background-color: white;}#sk-container-id-4 div.sk-label label {font-family: monospace;font-weight: bold;display: inline-block;line-height: 1.2em;}#sk-container-id-4 div.sk-label-container {text-align: center;}#sk-container-id-4 div.sk-container {/* jupyter's `normalize.less` sets `[hidden] { display: none; }` but bootstrap.min.css set `[hidden] { display: none !important; }` so we also need the `!important` here to be able to override the default hidden behavior on the sphinx rendered scikit-learn.org. See: https://github.com/scikit-learn/scikit-learn/issues/21755 */display: inline-block !important;position: relative;}#sk-container-id-4 div.sk-text-repr-fallback {display: none;}</style><div id=\"sk-container-id-4\" class=\"sk-top-container\"><div class=\"sk-text-repr-fallback\"><pre>GridSearchCV(cv=2, estimator=SVC(),\n",
       "             param_grid={&#x27;C&#x27;: [0.1, 1, 10], &#x27;class_weight&#x27;: [&#x27;balanced&#x27;],\n",
       "                         &#x27;gamma&#x27;: [1, 0.1, 0.01], &#x27;kernel&#x27;: [&#x27;rbf&#x27;]},\n",
       "             verbose=2)</pre><b>In a Jupyter environment, please rerun this cell to show the HTML representation or trust the notebook. <br />On GitHub, the HTML representation is unable to render, please try loading this page with nbviewer.org.</b></div><div class=\"sk-container\" hidden><div class=\"sk-item sk-dashed-wrapped\"><div class=\"sk-label-container\"><div class=\"sk-label sk-toggleable\"><input class=\"sk-toggleable__control sk-hidden--visually\" id=\"sk-estimator-id-6\" type=\"checkbox\" ><label for=\"sk-estimator-id-6\" class=\"sk-toggleable__label sk-toggleable__label-arrow\">GridSearchCV</label><div class=\"sk-toggleable__content\"><pre>GridSearchCV(cv=2, estimator=SVC(),\n",
       "             param_grid={&#x27;C&#x27;: [0.1, 1, 10], &#x27;class_weight&#x27;: [&#x27;balanced&#x27;],\n",
       "                         &#x27;gamma&#x27;: [1, 0.1, 0.01], &#x27;kernel&#x27;: [&#x27;rbf&#x27;]},\n",
       "             verbose=2)</pre></div></div></div><div class=\"sk-parallel\"><div class=\"sk-parallel-item\"><div class=\"sk-item\"><div class=\"sk-label-container\"><div class=\"sk-label sk-toggleable\"><input class=\"sk-toggleable__control sk-hidden--visually\" id=\"sk-estimator-id-7\" type=\"checkbox\" ><label for=\"sk-estimator-id-7\" class=\"sk-toggleable__label sk-toggleable__label-arrow\">estimator: SVC</label><div class=\"sk-toggleable__content\"><pre>SVC()</pre></div></div></div><div class=\"sk-serial\"><div class=\"sk-item\"><div class=\"sk-estimator sk-toggleable\"><input class=\"sk-toggleable__control sk-hidden--visually\" id=\"sk-estimator-id-8\" type=\"checkbox\" ><label for=\"sk-estimator-id-8\" class=\"sk-toggleable__label sk-toggleable__label-arrow\">SVC</label><div class=\"sk-toggleable__content\"><pre>SVC()</pre></div></div></div></div></div></div></div></div></div></div>"
      ],
      "text/plain": [
       "GridSearchCV(cv=2, estimator=SVC(),\n",
       "             param_grid={'C': [0.1, 1, 10], 'class_weight': ['balanced'],\n",
       "                         'gamma': [1, 0.1, 0.01], 'kernel': ['rbf']},\n",
       "             verbose=2)"
      ]
     },
     "execution_count": 76,
     "metadata": {},
     "output_type": "execute_result"
    }
   ],
   "source": [
    "grid_rus =  GridSearchCV(SVC(),param_grid,refit=True,verbose=2, cv = 2)\n",
    "grid_rus.fit(x_train_rus,y_train_rus)"
   ]
  },
  {
   "cell_type": "markdown",
   "id": "4b53a80b",
   "metadata": {
    "id": "oyAEfE6uh6Vp",
    "papermill": {
     "duration": 0.044815,
     "end_time": "2023-07-09T17:39:05.818978",
     "exception": false,
     "start_time": "2023-07-09T17:39:05.774163",
     "status": "completed"
    },
    "tags": []
   },
   "source": [
    "**Model with Random Over Sampling**"
   ]
  },
  {
   "cell_type": "code",
   "execution_count": 77,
   "id": "b5992146",
   "metadata": {
    "execution": {
     "iopub.execute_input": "2023-07-09T17:39:05.910950Z",
     "iopub.status.busy": "2023-07-09T17:39:05.910492Z",
     "iopub.status.idle": "2023-07-09T17:39:05.914472Z",
     "shell.execute_reply": "2023-07-09T17:39:05.913638Z"
    },
    "id": "gRwQxy53HFYv",
    "papermill": {
     "duration": 0.051915,
     "end_time": "2023-07-09T17:39:05.916619",
     "exception": false,
     "start_time": "2023-07-09T17:39:05.864704",
     "status": "completed"
    },
    "tags": []
   },
   "outputs": [],
   "source": [
    "svc_ros = SVC()"
   ]
  },
  {
   "cell_type": "code",
   "execution_count": 78,
   "id": "b10b0390",
   "metadata": {
    "execution": {
     "iopub.execute_input": "2023-07-09T17:39:06.005375Z",
     "iopub.status.busy": "2023-07-09T17:39:06.004760Z",
     "iopub.status.idle": "2023-07-09T17:39:13.722681Z",
     "shell.execute_reply": "2023-07-09T17:39:13.721418Z"
    },
    "id": "ack3HIOSiT88",
    "outputId": "fcd24fa7-e9e8-46d6-b447-99a268c2dfab",
    "papermill": {
     "duration": 7.764872,
     "end_time": "2023-07-09T17:39:13.725556",
     "exception": false,
     "start_time": "2023-07-09T17:39:05.960684",
     "status": "completed"
    },
    "tags": []
   },
   "outputs": [
    {
     "data": {
      "text/html": [
       "<style>#sk-container-id-5 {color: black;background-color: white;}#sk-container-id-5 pre{padding: 0;}#sk-container-id-5 div.sk-toggleable {background-color: white;}#sk-container-id-5 label.sk-toggleable__label {cursor: pointer;display: block;width: 100%;margin-bottom: 0;padding: 0.3em;box-sizing: border-box;text-align: center;}#sk-container-id-5 label.sk-toggleable__label-arrow:before {content: \"▸\";float: left;margin-right: 0.25em;color: #696969;}#sk-container-id-5 label.sk-toggleable__label-arrow:hover:before {color: black;}#sk-container-id-5 div.sk-estimator:hover label.sk-toggleable__label-arrow:before {color: black;}#sk-container-id-5 div.sk-toggleable__content {max-height: 0;max-width: 0;overflow: hidden;text-align: left;background-color: #f0f8ff;}#sk-container-id-5 div.sk-toggleable__content pre {margin: 0.2em;color: black;border-radius: 0.25em;background-color: #f0f8ff;}#sk-container-id-5 input.sk-toggleable__control:checked~div.sk-toggleable__content {max-height: 200px;max-width: 100%;overflow: auto;}#sk-container-id-5 input.sk-toggleable__control:checked~label.sk-toggleable__label-arrow:before {content: \"▾\";}#sk-container-id-5 div.sk-estimator input.sk-toggleable__control:checked~label.sk-toggleable__label {background-color: #d4ebff;}#sk-container-id-5 div.sk-label input.sk-toggleable__control:checked~label.sk-toggleable__label {background-color: #d4ebff;}#sk-container-id-5 input.sk-hidden--visually {border: 0;clip: rect(1px 1px 1px 1px);clip: rect(1px, 1px, 1px, 1px);height: 1px;margin: -1px;overflow: hidden;padding: 0;position: absolute;width: 1px;}#sk-container-id-5 div.sk-estimator {font-family: monospace;background-color: #f0f8ff;border: 1px dotted black;border-radius: 0.25em;box-sizing: border-box;margin-bottom: 0.5em;}#sk-container-id-5 div.sk-estimator:hover {background-color: #d4ebff;}#sk-container-id-5 div.sk-parallel-item::after {content: \"\";width: 100%;border-bottom: 1px solid gray;flex-grow: 1;}#sk-container-id-5 div.sk-label:hover label.sk-toggleable__label {background-color: #d4ebff;}#sk-container-id-5 div.sk-serial::before {content: \"\";position: absolute;border-left: 1px solid gray;box-sizing: border-box;top: 0;bottom: 0;left: 50%;z-index: 0;}#sk-container-id-5 div.sk-serial {display: flex;flex-direction: column;align-items: center;background-color: white;padding-right: 0.2em;padding-left: 0.2em;position: relative;}#sk-container-id-5 div.sk-item {position: relative;z-index: 1;}#sk-container-id-5 div.sk-parallel {display: flex;align-items: stretch;justify-content: center;background-color: white;position: relative;}#sk-container-id-5 div.sk-item::before, #sk-container-id-5 div.sk-parallel-item::before {content: \"\";position: absolute;border-left: 1px solid gray;box-sizing: border-box;top: 0;bottom: 0;left: 50%;z-index: -1;}#sk-container-id-5 div.sk-parallel-item {display: flex;flex-direction: column;z-index: 1;position: relative;background-color: white;}#sk-container-id-5 div.sk-parallel-item:first-child::after {align-self: flex-end;width: 50%;}#sk-container-id-5 div.sk-parallel-item:last-child::after {align-self: flex-start;width: 50%;}#sk-container-id-5 div.sk-parallel-item:only-child::after {width: 0;}#sk-container-id-5 div.sk-dashed-wrapped {border: 1px dashed gray;margin: 0 0.4em 0.5em 0.4em;box-sizing: border-box;padding-bottom: 0.4em;background-color: white;}#sk-container-id-5 div.sk-label label {font-family: monospace;font-weight: bold;display: inline-block;line-height: 1.2em;}#sk-container-id-5 div.sk-label-container {text-align: center;}#sk-container-id-5 div.sk-container {/* jupyter's `normalize.less` sets `[hidden] { display: none; }` but bootstrap.min.css set `[hidden] { display: none !important; }` so we also need the `!important` here to be able to override the default hidden behavior on the sphinx rendered scikit-learn.org. See: https://github.com/scikit-learn/scikit-learn/issues/21755 */display: inline-block !important;position: relative;}#sk-container-id-5 div.sk-text-repr-fallback {display: none;}</style><div id=\"sk-container-id-5\" class=\"sk-top-container\"><div class=\"sk-text-repr-fallback\"><pre>SVC()</pre><b>In a Jupyter environment, please rerun this cell to show the HTML representation or trust the notebook. <br />On GitHub, the HTML representation is unable to render, please try loading this page with nbviewer.org.</b></div><div class=\"sk-container\" hidden><div class=\"sk-item\"><div class=\"sk-estimator sk-toggleable\"><input class=\"sk-toggleable__control sk-hidden--visually\" id=\"sk-estimator-id-9\" type=\"checkbox\" checked><label for=\"sk-estimator-id-9\" class=\"sk-toggleable__label sk-toggleable__label-arrow\">SVC</label><div class=\"sk-toggleable__content\"><pre>SVC()</pre></div></div></div></div></div>"
      ],
      "text/plain": [
       "SVC()"
      ]
     },
     "execution_count": 78,
     "metadata": {},
     "output_type": "execute_result"
    }
   ],
   "source": [
    "svc_ros.fit(x_train_ros, y_train_ros)"
   ]
  },
  {
   "cell_type": "code",
   "execution_count": 79,
   "id": "369ecd64",
   "metadata": {
    "execution": {
     "iopub.execute_input": "2023-07-09T17:39:13.814649Z",
     "iopub.status.busy": "2023-07-09T17:39:13.814234Z",
     "iopub.status.idle": "2023-07-09T17:39:17.230138Z",
     "shell.execute_reply": "2023-07-09T17:39:17.228834Z"
    },
    "id": "IBVcm7wAibz9",
    "papermill": {
     "duration": 3.463917,
     "end_time": "2023-07-09T17:39:17.233025",
     "exception": false,
     "start_time": "2023-07-09T17:39:13.769108",
     "status": "completed"
    },
    "tags": []
   },
   "outputs": [],
   "source": [
    "y_pred_ros = svc_ros.predict(x_test_ros)"
   ]
  },
  {
   "cell_type": "markdown",
   "id": "aac463ca",
   "metadata": {
    "id": "BkRawMZ5jsD2",
    "papermill": {
     "duration": 0.044037,
     "end_time": "2023-07-09T17:39:17.321648",
     "exception": false,
     "start_time": "2023-07-09T17:39:17.277611",
     "status": "completed"
    },
    "tags": []
   },
   "source": [
    "**Model Accuracy**"
   ]
  },
  {
   "cell_type": "code",
   "execution_count": 80,
   "id": "4b0f0092",
   "metadata": {
    "execution": {
     "iopub.execute_input": "2023-07-09T17:39:17.416157Z",
     "iopub.status.busy": "2023-07-09T17:39:17.414639Z",
     "iopub.status.idle": "2023-07-09T17:39:17.427940Z",
     "shell.execute_reply": "2023-07-09T17:39:17.426303Z"
    },
    "id": "TIOxYHPejLwG",
    "outputId": "db113344-bdb1-49d9-d473-56de9b2050c0",
    "papermill": {
     "duration": 0.06508,
     "end_time": "2023-07-09T17:39:17.431166",
     "exception": false,
     "start_time": "2023-07-09T17:39:17.366086",
     "status": "completed"
    },
    "tags": []
   },
   "outputs": [
    {
     "data": {
      "text/plain": [
       "array([[   0, 2402],\n",
       "       [   0, 2376]], dtype=int64)"
      ]
     },
     "execution_count": 80,
     "metadata": {},
     "output_type": "execute_result"
    }
   ],
   "source": [
    "confusion_matrix(y_test_ros, y_pred_ros)"
   ]
  },
  {
   "cell_type": "code",
   "execution_count": 81,
   "id": "6c7040a5",
   "metadata": {
    "execution": {
     "iopub.execute_input": "2023-07-09T17:39:17.524463Z",
     "iopub.status.busy": "2023-07-09T17:39:17.523522Z",
     "iopub.status.idle": "2023-07-09T17:39:17.545668Z",
     "shell.execute_reply": "2023-07-09T17:39:17.543946Z"
    },
    "id": "2yAmNIpakFSe",
    "outputId": "b51a499a-8819-40bc-d80c-fd1eedc12350",
    "papermill": {
     "duration": 0.070785,
     "end_time": "2023-07-09T17:39:17.548486",
     "exception": false,
     "start_time": "2023-07-09T17:39:17.477701",
     "status": "completed"
    },
    "tags": []
   },
   "outputs": [
    {
     "name": "stdout",
     "output_type": "stream",
     "text": [
      "              precision    recall  f1-score   support\n",
      "\n",
      "           0       0.00      0.00      0.00      2402\n",
      "           1       0.50      1.00      0.66      2376\n",
      "\n",
      "    accuracy                           0.50      4778\n",
      "   macro avg       0.25      0.50      0.33      4778\n",
      "weighted avg       0.25      0.50      0.33      4778\n",
      "\n"
     ]
    },
    {
     "name": "stderr",
     "output_type": "stream",
     "text": [
      "C:\\Users\\hc782\\AppData\\Local\\Programs\\Python\\Python310\\lib\\site-packages\\sklearn\\metrics\\_classification.py:1344: UndefinedMetricWarning: Precision and F-score are ill-defined and being set to 0.0 in labels with no predicted samples. Use `zero_division` parameter to control this behavior.\n",
      "  _warn_prf(average, modifier, msg_start, len(result))\n",
      "C:\\Users\\hc782\\AppData\\Local\\Programs\\Python\\Python310\\lib\\site-packages\\sklearn\\metrics\\_classification.py:1344: UndefinedMetricWarning: Precision and F-score are ill-defined and being set to 0.0 in labels with no predicted samples. Use `zero_division` parameter to control this behavior.\n",
      "  _warn_prf(average, modifier, msg_start, len(result))\n",
      "C:\\Users\\hc782\\AppData\\Local\\Programs\\Python\\Python310\\lib\\site-packages\\sklearn\\metrics\\_classification.py:1344: UndefinedMetricWarning: Precision and F-score are ill-defined and being set to 0.0 in labels with no predicted samples. Use `zero_division` parameter to control this behavior.\n",
      "  _warn_prf(average, modifier, msg_start, len(result))\n"
     ]
    }
   ],
   "source": [
    "print(classification_report(y_test_ros, y_pred_ros))"
   ]
  },
  {
   "cell_type": "markdown",
   "id": "14823533",
   "metadata": {
    "id": "WcnCz2pok518",
    "papermill": {
     "duration": 0.044989,
     "end_time": "2023-07-09T17:39:17.637734",
     "exception": false,
     "start_time": "2023-07-09T17:39:17.592745",
     "status": "completed"
    },
    "tags": []
   },
   "source": [
    "**Hyperparameter Tunning**"
   ]
  },
  {
   "cell_type": "code",
   "execution_count": 82,
   "id": "fbe140fb",
   "metadata": {
    "execution": {
     "iopub.execute_input": "2023-07-09T17:39:17.731693Z",
     "iopub.status.busy": "2023-07-09T17:39:17.731254Z",
     "iopub.status.idle": "2023-07-09T17:39:17.737180Z",
     "shell.execute_reply": "2023-07-09T17:39:17.736027Z"
    },
    "id": "59SRND_Uk0Ao",
    "papermill": {
     "duration": 0.055644,
     "end_time": "2023-07-09T17:39:17.739481",
     "exception": false,
     "start_time": "2023-07-09T17:39:17.683837",
     "status": "completed"
    },
    "tags": []
   },
   "outputs": [],
   "source": [
    "param_grid = {'C':[0.1,1,10],\n",
    "              'gamma': [1,0.1,0.01],\n",
    "              'kernel':['rbf'],\n",
    "              'class_weight':['balanced']}"
   ]
  },
  {
   "cell_type": "code",
   "execution_count": 83,
   "id": "8ef5ab76",
   "metadata": {
    "execution": {
     "iopub.execute_input": "2023-07-09T17:39:17.829304Z",
     "iopub.status.busy": "2023-07-09T17:39:17.828621Z",
     "iopub.status.idle": "2023-07-09T17:40:40.308143Z",
     "shell.execute_reply": "2023-07-09T17:40:40.306794Z"
    },
    "id": "q2nJ-qcVlLtH",
    "outputId": "0f8cd6e3-a505-46be-da4d-1b9b9cb77e00",
    "papermill": {
     "duration": 82.527598,
     "end_time": "2023-07-09T17:40:40.311070",
     "exception": false,
     "start_time": "2023-07-09T17:39:17.783472",
     "status": "completed"
    },
    "tags": []
   },
   "outputs": [
    {
     "name": "stdout",
     "output_type": "stream",
     "text": [
      "Fitting 2 folds for each of 9 candidates, totalling 18 fits\n",
      "[CV] END ..C=0.1, class_weight=balanced, gamma=1, kernel=rbf; total time=  15.4s\n",
      "[CV] END ..C=0.1, class_weight=balanced, gamma=1, kernel=rbf; total time=  16.5s\n",
      "[CV] END C=0.1, class_weight=balanced, gamma=0.1, kernel=rbf; total time=  15.5s\n",
      "[CV] END C=0.1, class_weight=balanced, gamma=0.1, kernel=rbf; total time=  15.7s\n",
      "[CV] END C=0.1, class_weight=balanced, gamma=0.01, kernel=rbf; total time=  16.3s\n",
      "[CV] END C=0.1, class_weight=balanced, gamma=0.01, kernel=rbf; total time=  15.8s\n",
      "[CV] END ....C=1, class_weight=balanced, gamma=1, kernel=rbf; total time=  15.0s\n",
      "[CV] END ....C=1, class_weight=balanced, gamma=1, kernel=rbf; total time=  15.1s\n",
      "[CV] END ..C=1, class_weight=balanced, gamma=0.1, kernel=rbf; total time=  15.0s\n",
      "[CV] END ..C=1, class_weight=balanced, gamma=0.1, kernel=rbf; total time=  14.8s\n",
      "[CV] END .C=1, class_weight=balanced, gamma=0.01, kernel=rbf; total time=  15.5s\n",
      "[CV] END .C=1, class_weight=balanced, gamma=0.01, kernel=rbf; total time=  14.7s\n",
      "[CV] END ...C=10, class_weight=balanced, gamma=1, kernel=rbf; total time=  13.3s\n",
      "[CV] END ...C=10, class_weight=balanced, gamma=1, kernel=rbf; total time=  14.5s\n",
      "[CV] END .C=10, class_weight=balanced, gamma=0.1, kernel=rbf; total time=  14.7s\n",
      "[CV] END .C=10, class_weight=balanced, gamma=0.1, kernel=rbf; total time=  13.2s\n",
      "[CV] END C=10, class_weight=balanced, gamma=0.01, kernel=rbf; total time=  12.6s\n",
      "[CV] END C=10, class_weight=balanced, gamma=0.01, kernel=rbf; total time=  12.7s\n"
     ]
    },
    {
     "data": {
      "text/html": [
       "<style>#sk-container-id-6 {color: black;background-color: white;}#sk-container-id-6 pre{padding: 0;}#sk-container-id-6 div.sk-toggleable {background-color: white;}#sk-container-id-6 label.sk-toggleable__label {cursor: pointer;display: block;width: 100%;margin-bottom: 0;padding: 0.3em;box-sizing: border-box;text-align: center;}#sk-container-id-6 label.sk-toggleable__label-arrow:before {content: \"▸\";float: left;margin-right: 0.25em;color: #696969;}#sk-container-id-6 label.sk-toggleable__label-arrow:hover:before {color: black;}#sk-container-id-6 div.sk-estimator:hover label.sk-toggleable__label-arrow:before {color: black;}#sk-container-id-6 div.sk-toggleable__content {max-height: 0;max-width: 0;overflow: hidden;text-align: left;background-color: #f0f8ff;}#sk-container-id-6 div.sk-toggleable__content pre {margin: 0.2em;color: black;border-radius: 0.25em;background-color: #f0f8ff;}#sk-container-id-6 input.sk-toggleable__control:checked~div.sk-toggleable__content {max-height: 200px;max-width: 100%;overflow: auto;}#sk-container-id-6 input.sk-toggleable__control:checked~label.sk-toggleable__label-arrow:before {content: \"▾\";}#sk-container-id-6 div.sk-estimator input.sk-toggleable__control:checked~label.sk-toggleable__label {background-color: #d4ebff;}#sk-container-id-6 div.sk-label input.sk-toggleable__control:checked~label.sk-toggleable__label {background-color: #d4ebff;}#sk-container-id-6 input.sk-hidden--visually {border: 0;clip: rect(1px 1px 1px 1px);clip: rect(1px, 1px, 1px, 1px);height: 1px;margin: -1px;overflow: hidden;padding: 0;position: absolute;width: 1px;}#sk-container-id-6 div.sk-estimator {font-family: monospace;background-color: #f0f8ff;border: 1px dotted black;border-radius: 0.25em;box-sizing: border-box;margin-bottom: 0.5em;}#sk-container-id-6 div.sk-estimator:hover {background-color: #d4ebff;}#sk-container-id-6 div.sk-parallel-item::after {content: \"\";width: 100%;border-bottom: 1px solid gray;flex-grow: 1;}#sk-container-id-6 div.sk-label:hover label.sk-toggleable__label {background-color: #d4ebff;}#sk-container-id-6 div.sk-serial::before {content: \"\";position: absolute;border-left: 1px solid gray;box-sizing: border-box;top: 0;bottom: 0;left: 50%;z-index: 0;}#sk-container-id-6 div.sk-serial {display: flex;flex-direction: column;align-items: center;background-color: white;padding-right: 0.2em;padding-left: 0.2em;position: relative;}#sk-container-id-6 div.sk-item {position: relative;z-index: 1;}#sk-container-id-6 div.sk-parallel {display: flex;align-items: stretch;justify-content: center;background-color: white;position: relative;}#sk-container-id-6 div.sk-item::before, #sk-container-id-6 div.sk-parallel-item::before {content: \"\";position: absolute;border-left: 1px solid gray;box-sizing: border-box;top: 0;bottom: 0;left: 50%;z-index: -1;}#sk-container-id-6 div.sk-parallel-item {display: flex;flex-direction: column;z-index: 1;position: relative;background-color: white;}#sk-container-id-6 div.sk-parallel-item:first-child::after {align-self: flex-end;width: 50%;}#sk-container-id-6 div.sk-parallel-item:last-child::after {align-self: flex-start;width: 50%;}#sk-container-id-6 div.sk-parallel-item:only-child::after {width: 0;}#sk-container-id-6 div.sk-dashed-wrapped {border: 1px dashed gray;margin: 0 0.4em 0.5em 0.4em;box-sizing: border-box;padding-bottom: 0.4em;background-color: white;}#sk-container-id-6 div.sk-label label {font-family: monospace;font-weight: bold;display: inline-block;line-height: 1.2em;}#sk-container-id-6 div.sk-label-container {text-align: center;}#sk-container-id-6 div.sk-container {/* jupyter's `normalize.less` sets `[hidden] { display: none; }` but bootstrap.min.css set `[hidden] { display: none !important; }` so we also need the `!important` here to be able to override the default hidden behavior on the sphinx rendered scikit-learn.org. See: https://github.com/scikit-learn/scikit-learn/issues/21755 */display: inline-block !important;position: relative;}#sk-container-id-6 div.sk-text-repr-fallback {display: none;}</style><div id=\"sk-container-id-6\" class=\"sk-top-container\"><div class=\"sk-text-repr-fallback\"><pre>GridSearchCV(cv=2, estimator=SVC(),\n",
       "             param_grid={&#x27;C&#x27;: [0.1, 1, 10], &#x27;class_weight&#x27;: [&#x27;balanced&#x27;],\n",
       "                         &#x27;gamma&#x27;: [1, 0.1, 0.01], &#x27;kernel&#x27;: [&#x27;rbf&#x27;]},\n",
       "             verbose=2)</pre><b>In a Jupyter environment, please rerun this cell to show the HTML representation or trust the notebook. <br />On GitHub, the HTML representation is unable to render, please try loading this page with nbviewer.org.</b></div><div class=\"sk-container\" hidden><div class=\"sk-item sk-dashed-wrapped\"><div class=\"sk-label-container\"><div class=\"sk-label sk-toggleable\"><input class=\"sk-toggleable__control sk-hidden--visually\" id=\"sk-estimator-id-10\" type=\"checkbox\" ><label for=\"sk-estimator-id-10\" class=\"sk-toggleable__label sk-toggleable__label-arrow\">GridSearchCV</label><div class=\"sk-toggleable__content\"><pre>GridSearchCV(cv=2, estimator=SVC(),\n",
       "             param_grid={&#x27;C&#x27;: [0.1, 1, 10], &#x27;class_weight&#x27;: [&#x27;balanced&#x27;],\n",
       "                         &#x27;gamma&#x27;: [1, 0.1, 0.01], &#x27;kernel&#x27;: [&#x27;rbf&#x27;]},\n",
       "             verbose=2)</pre></div></div></div><div class=\"sk-parallel\"><div class=\"sk-parallel-item\"><div class=\"sk-item\"><div class=\"sk-label-container\"><div class=\"sk-label sk-toggleable\"><input class=\"sk-toggleable__control sk-hidden--visually\" id=\"sk-estimator-id-11\" type=\"checkbox\" ><label for=\"sk-estimator-id-11\" class=\"sk-toggleable__label sk-toggleable__label-arrow\">estimator: SVC</label><div class=\"sk-toggleable__content\"><pre>SVC()</pre></div></div></div><div class=\"sk-serial\"><div class=\"sk-item\"><div class=\"sk-estimator sk-toggleable\"><input class=\"sk-toggleable__control sk-hidden--visually\" id=\"sk-estimator-id-12\" type=\"checkbox\" ><label for=\"sk-estimator-id-12\" class=\"sk-toggleable__label sk-toggleable__label-arrow\">SVC</label><div class=\"sk-toggleable__content\"><pre>SVC()</pre></div></div></div></div></div></div></div></div></div></div>"
      ],
      "text/plain": [
       "GridSearchCV(cv=2, estimator=SVC(),\n",
       "             param_grid={'C': [0.1, 1, 10], 'class_weight': ['balanced'],\n",
       "                         'gamma': [1, 0.1, 0.01], 'kernel': ['rbf']},\n",
       "             verbose=2)"
      ]
     },
     "execution_count": 83,
     "metadata": {},
     "output_type": "execute_result"
    }
   ],
   "source": [
    "grid_ros =  GridSearchCV(SVC(),param_grid,refit=True,verbose=2, cv = 2)\n",
    "grid_ros.fit(x_train_ros,y_train_ros)"
   ]
  },
  {
   "cell_type": "code",
   "execution_count": 84,
   "id": "43d3f390",
   "metadata": {
    "execution": {
     "iopub.execute_input": "2023-07-09T17:40:40.408585Z",
     "iopub.status.busy": "2023-07-09T17:40:40.407738Z",
     "iopub.status.idle": "2023-07-09T17:40:40.414576Z",
     "shell.execute_reply": "2023-07-09T17:40:40.413092Z"
    },
    "id": "MwuO9l-XmtrA",
    "outputId": "45414506-0993-4dd8-c281-1e9ef42ccf97",
    "papermill": {
     "duration": 0.059228,
     "end_time": "2023-07-09T17:40:40.417570",
     "exception": false,
     "start_time": "2023-07-09T17:40:40.358342",
     "status": "completed"
    },
    "tags": []
   },
   "outputs": [
    {
     "name": "stdout",
     "output_type": "stream",
     "text": [
      "SVC(C=1, class_weight='balanced', gamma=1)\n"
     ]
    }
   ],
   "source": [
    "print(grid_ros.best_estimator_)"
   ]
  },
  {
   "cell_type": "code",
   "execution_count": 85,
   "id": "a5cbd37d",
   "metadata": {
    "execution": {
     "iopub.execute_input": "2023-07-09T17:40:40.513275Z",
     "iopub.status.busy": "2023-07-09T17:40:40.512785Z",
     "iopub.status.idle": "2023-07-09T17:40:43.573148Z",
     "shell.execute_reply": "2023-07-09T17:40:43.571785Z"
    },
    "id": "3PU3o7YxnVJe",
    "papermill": {
     "duration": 3.112204,
     "end_time": "2023-07-09T17:40:43.576290",
     "exception": false,
     "start_time": "2023-07-09T17:40:40.464086",
     "status": "completed"
    },
    "tags": []
   },
   "outputs": [],
   "source": [
    "grid_predictions_ros = grid_ros.predict(x_test_ros)"
   ]
  },
  {
   "cell_type": "code",
   "execution_count": 86,
   "id": "096ca762",
   "metadata": {
    "execution": {
     "iopub.execute_input": "2023-07-09T17:40:43.669875Z",
     "iopub.status.busy": "2023-07-09T17:40:43.669449Z",
     "iopub.status.idle": "2023-07-09T17:40:43.679463Z",
     "shell.execute_reply": "2023-07-09T17:40:43.678205Z"
    },
    "id": "61aVR4NTnnrz",
    "outputId": "a40453bb-72df-4be3-8ec7-9c6adcf1cefe",
    "papermill": {
     "duration": 0.059972,
     "end_time": "2023-07-09T17:40:43.681912",
     "exception": false,
     "start_time": "2023-07-09T17:40:43.621940",
     "status": "completed"
    },
    "tags": []
   },
   "outputs": [
    {
     "data": {
      "text/plain": [
       "array([[2402,    0],\n",
       "       [ 146, 2230]], dtype=int64)"
      ]
     },
     "execution_count": 86,
     "metadata": {},
     "output_type": "execute_result"
    }
   ],
   "source": [
    "confusion_matrix(y_test_ros,grid_predictions_ros)"
   ]
  },
  {
   "cell_type": "code",
   "execution_count": 87,
   "id": "ba363f84",
   "metadata": {
    "execution": {
     "iopub.execute_input": "2023-07-09T17:40:43.777907Z",
     "iopub.status.busy": "2023-07-09T17:40:43.777473Z",
     "iopub.status.idle": "2023-07-09T17:40:43.799687Z",
     "shell.execute_reply": "2023-07-09T17:40:43.798186Z"
    },
    "id": "_kuBbd7in6jI",
    "outputId": "2b568176-a6b7-47c6-ca8f-ee58696e4239",
    "papermill": {
     "duration": 0.074077,
     "end_time": "2023-07-09T17:40:43.802673",
     "exception": false,
     "start_time": "2023-07-09T17:40:43.728596",
     "status": "completed"
    },
    "tags": []
   },
   "outputs": [
    {
     "name": "stdout",
     "output_type": "stream",
     "text": [
      "              precision    recall  f1-score   support\n",
      "\n",
      "           0       0.94      1.00      0.97      2402\n",
      "           1       1.00      0.94      0.97      2376\n",
      "\n",
      "    accuracy                           0.97      4778\n",
      "   macro avg       0.97      0.97      0.97      4778\n",
      "weighted avg       0.97      0.97      0.97      4778\n",
      "\n"
     ]
    }
   ],
   "source": [
    "print(classification_report(y_test_ros, grid_predictions_ros))"
   ]
  },
  {
   "cell_type": "markdown",
   "id": "ada67e08",
   "metadata": {
    "id": "HvGwjsnLoarD",
    "papermill": {
     "duration": 0.046229,
     "end_time": "2023-07-09T17:40:43.896459",
     "exception": false,
     "start_time": "2023-07-09T17:40:43.850230",
     "status": "completed"
    },
    "tags": []
   },
   "source": [
    "**Lets Compare**"
   ]
  },
  {
   "cell_type": "code",
   "execution_count": 88,
   "id": "f333c8ce",
   "metadata": {
    "execution": {
     "iopub.execute_input": "2023-07-09T17:40:43.991329Z",
     "iopub.status.busy": "2023-07-09T17:40:43.990275Z",
     "iopub.status.idle": "2023-07-09T17:40:44.009995Z",
     "shell.execute_reply": "2023-07-09T17:40:44.008115Z"
    },
    "id": "msxCxpiqnzB8",
    "outputId": "80322351-0af6-4311-a092-c26c25806222",
    "papermill": {
     "duration": 0.070147,
     "end_time": "2023-07-09T17:40:44.012754",
     "exception": false,
     "start_time": "2023-07-09T17:40:43.942607",
     "status": "completed"
    },
    "tags": []
   },
   "outputs": [
    {
     "name": "stdout",
     "output_type": "stream",
     "text": [
      "              precision    recall  f1-score   support\n",
      "\n",
      "           0       0.80      1.00      0.89      2414\n",
      "           1       0.00      0.00      0.00       586\n",
      "\n",
      "    accuracy                           0.80      3000\n",
      "   macro avg       0.40      0.50      0.45      3000\n",
      "weighted avg       0.65      0.80      0.72      3000\n",
      "\n"
     ]
    },
    {
     "name": "stderr",
     "output_type": "stream",
     "text": [
      "C:\\Users\\hc782\\AppData\\Local\\Programs\\Python\\Python310\\lib\\site-packages\\sklearn\\metrics\\_classification.py:1344: UndefinedMetricWarning: Precision and F-score are ill-defined and being set to 0.0 in labels with no predicted samples. Use `zero_division` parameter to control this behavior.\n",
      "  _warn_prf(average, modifier, msg_start, len(result))\n",
      "C:\\Users\\hc782\\AppData\\Local\\Programs\\Python\\Python310\\lib\\site-packages\\sklearn\\metrics\\_classification.py:1344: UndefinedMetricWarning: Precision and F-score are ill-defined and being set to 0.0 in labels with no predicted samples. Use `zero_division` parameter to control this behavior.\n",
      "  _warn_prf(average, modifier, msg_start, len(result))\n",
      "C:\\Users\\hc782\\AppData\\Local\\Programs\\Python\\Python310\\lib\\site-packages\\sklearn\\metrics\\_classification.py:1344: UndefinedMetricWarning: Precision and F-score are ill-defined and being set to 0.0 in labels with no predicted samples. Use `zero_division` parameter to control this behavior.\n",
      "  _warn_prf(average, modifier, msg_start, len(result))\n"
     ]
    }
   ],
   "source": [
    "print(classification_report(y_test, y_pred))"
   ]
  },
  {
   "cell_type": "code",
   "execution_count": 89,
   "id": "6bd5f6f8",
   "metadata": {
    "execution": {
     "iopub.execute_input": "2023-07-09T17:40:44.110243Z",
     "iopub.status.busy": "2023-07-09T17:40:44.109800Z",
     "iopub.status.idle": "2023-07-09T17:40:44.129055Z",
     "shell.execute_reply": "2023-07-09T17:40:44.127344Z"
    },
    "id": "cI4B5VN8opUd",
    "outputId": "eca2036b-982f-435c-a4d8-a0463b656b20",
    "papermill": {
     "duration": 0.070197,
     "end_time": "2023-07-09T17:40:44.131766",
     "exception": false,
     "start_time": "2023-07-09T17:40:44.061569",
     "status": "completed"
    },
    "tags": []
   },
   "outputs": [
    {
     "name": "stderr",
     "output_type": "stream",
     "text": [
      "C:\\Users\\hc782\\AppData\\Local\\Programs\\Python\\Python310\\lib\\site-packages\\sklearn\\metrics\\_classification.py:1344: UndefinedMetricWarning: Precision and F-score are ill-defined and being set to 0.0 in labels with no predicted samples. Use `zero_division` parameter to control this behavior.\n",
      "  _warn_prf(average, modifier, msg_start, len(result))\n"
     ]
    },
    {
     "name": "stdout",
     "output_type": "stream",
     "text": [
      "              precision    recall  f1-score   support\n",
      "\n",
      "           0       0.80      1.00      0.89      2414\n",
      "           1       0.00      0.00      0.00       586\n",
      "\n",
      "    accuracy                           0.80      3000\n",
      "   macro avg       0.40      0.50      0.45      3000\n",
      "weighted avg       0.65      0.80      0.72      3000\n",
      "\n"
     ]
    },
    {
     "name": "stderr",
     "output_type": "stream",
     "text": [
      "C:\\Users\\hc782\\AppData\\Local\\Programs\\Python\\Python310\\lib\\site-packages\\sklearn\\metrics\\_classification.py:1344: UndefinedMetricWarning: Precision and F-score are ill-defined and being set to 0.0 in labels with no predicted samples. Use `zero_division` parameter to control this behavior.\n",
      "  _warn_prf(average, modifier, msg_start, len(result))\n",
      "C:\\Users\\hc782\\AppData\\Local\\Programs\\Python\\Python310\\lib\\site-packages\\sklearn\\metrics\\_classification.py:1344: UndefinedMetricWarning: Precision and F-score are ill-defined and being set to 0.0 in labels with no predicted samples. Use `zero_division` parameter to control this behavior.\n",
      "  _warn_prf(average, modifier, msg_start, len(result))\n"
     ]
    }
   ],
   "source": [
    "print(classification_report(y_test, grid_prediction))"
   ]
  },
  {
   "cell_type": "code",
   "execution_count": 90,
   "id": "3d10a2ce",
   "metadata": {
    "execution": {
     "iopub.execute_input": "2023-07-09T17:40:44.228224Z",
     "iopub.status.busy": "2023-07-09T17:40:44.227395Z",
     "iopub.status.idle": "2023-07-09T17:40:44.246265Z",
     "shell.execute_reply": "2023-07-09T17:40:44.244844Z"
    },
    "id": "0WiilWUAozfW",
    "outputId": "91cd143a-32e5-4815-9f8d-929847422a8b",
    "papermill": {
     "duration": 0.069559,
     "end_time": "2023-07-09T17:40:44.248757",
     "exception": false,
     "start_time": "2023-07-09T17:40:44.179198",
     "status": "completed"
    },
    "tags": []
   },
   "outputs": [
    {
     "name": "stdout",
     "output_type": "stream",
     "text": [
      "              precision    recall  f1-score   support\n",
      "\n",
      "           0       0.00      0.00      0.00       633\n",
      "           1       0.48      1.00      0.65       590\n",
      "\n",
      "    accuracy                           0.48      1223\n",
      "   macro avg       0.24      0.50      0.33      1223\n",
      "weighted avg       0.23      0.48      0.31      1223\n",
      "\n"
     ]
    },
    {
     "name": "stderr",
     "output_type": "stream",
     "text": [
      "C:\\Users\\hc782\\AppData\\Local\\Programs\\Python\\Python310\\lib\\site-packages\\sklearn\\metrics\\_classification.py:1344: UndefinedMetricWarning: Precision and F-score are ill-defined and being set to 0.0 in labels with no predicted samples. Use `zero_division` parameter to control this behavior.\n",
      "  _warn_prf(average, modifier, msg_start, len(result))\n",
      "C:\\Users\\hc782\\AppData\\Local\\Programs\\Python\\Python310\\lib\\site-packages\\sklearn\\metrics\\_classification.py:1344: UndefinedMetricWarning: Precision and F-score are ill-defined and being set to 0.0 in labels with no predicted samples. Use `zero_division` parameter to control this behavior.\n",
      "  _warn_prf(average, modifier, msg_start, len(result))\n",
      "C:\\Users\\hc782\\AppData\\Local\\Programs\\Python\\Python310\\lib\\site-packages\\sklearn\\metrics\\_classification.py:1344: UndefinedMetricWarning: Precision and F-score are ill-defined and being set to 0.0 in labels with no predicted samples. Use `zero_division` parameter to control this behavior.\n",
      "  _warn_prf(average, modifier, msg_start, len(result))\n"
     ]
    }
   ],
   "source": [
    "print(classification_report(y_test_rus, y_pred_rus))"
   ]
  },
  {
   "cell_type": "code",
   "execution_count": 91,
   "id": "deb2c51f",
   "metadata": {
    "execution": {
     "iopub.execute_input": "2023-07-09T17:40:44.349752Z",
     "iopub.status.busy": "2023-07-09T17:40:44.348957Z",
     "iopub.status.idle": "2023-07-09T17:40:44.371749Z",
     "shell.execute_reply": "2023-07-09T17:40:44.369760Z"
    },
    "id": "7l_iqotso_S9",
    "outputId": "35478501-26a8-42bd-93b5-6e3f3087e5ef",
    "papermill": {
     "duration": 0.078095,
     "end_time": "2023-07-09T17:40:44.374760",
     "exception": false,
     "start_time": "2023-07-09T17:40:44.296665",
     "status": "completed"
    },
    "tags": []
   },
   "outputs": [
    {
     "name": "stderr",
     "output_type": "stream",
     "text": [
      "C:\\Users\\hc782\\AppData\\Local\\Programs\\Python\\Python310\\lib\\site-packages\\sklearn\\metrics\\_classification.py:1344: UndefinedMetricWarning: Precision and F-score are ill-defined and being set to 0.0 in labels with no predicted samples. Use `zero_division` parameter to control this behavior.\n",
      "  _warn_prf(average, modifier, msg_start, len(result))\n"
     ]
    },
    {
     "name": "stdout",
     "output_type": "stream",
     "text": [
      "              precision    recall  f1-score   support\n",
      "\n",
      "           0       0.00      0.00      0.00      2402\n",
      "           1       0.50      1.00      0.66      2376\n",
      "\n",
      "    accuracy                           0.50      4778\n",
      "   macro avg       0.25      0.50      0.33      4778\n",
      "weighted avg       0.25      0.50      0.33      4778\n",
      "\n"
     ]
    },
    {
     "name": "stderr",
     "output_type": "stream",
     "text": [
      "C:\\Users\\hc782\\AppData\\Local\\Programs\\Python\\Python310\\lib\\site-packages\\sklearn\\metrics\\_classification.py:1344: UndefinedMetricWarning: Precision and F-score are ill-defined and being set to 0.0 in labels with no predicted samples. Use `zero_division` parameter to control this behavior.\n",
      "  _warn_prf(average, modifier, msg_start, len(result))\n",
      "C:\\Users\\hc782\\AppData\\Local\\Programs\\Python\\Python310\\lib\\site-packages\\sklearn\\metrics\\_classification.py:1344: UndefinedMetricWarning: Precision and F-score are ill-defined and being set to 0.0 in labels with no predicted samples. Use `zero_division` parameter to control this behavior.\n",
      "  _warn_prf(average, modifier, msg_start, len(result))\n"
     ]
    }
   ],
   "source": [
    "print(classification_report(y_test_ros, y_pred_ros))"
   ]
  },
  {
   "cell_type": "markdown",
   "id": "1089d88f",
   "metadata": {},
   "source": [
    "## <center> ... End of the project ... </center><br/> <center> Thank You </center>"
   ]
  },
  {
   "cell_type": "code",
   "execution_count": null,
   "id": "ca82a21d",
   "metadata": {},
   "outputs": [],
   "source": []
  }
 ],
 "metadata": {
  "kernelspec": {
   "display_name": "Python 3 (ipykernel)",
   "language": "python",
   "name": "python3"
  },
  "language_info": {
   "codemirror_mode": {
    "name": "ipython",
    "version": 3
   },
   "file_extension": ".py",
   "mimetype": "text/x-python",
   "name": "python",
   "nbconvert_exporter": "python",
   "pygments_lexer": "ipython3",
   "version": "3.10.2"
  },
  "papermill": {
   "default_parameters": {},
   "duration": 169.991778,
   "end_time": "2023-07-09T17:40:45.648275",
   "environment_variables": {},
   "exception": null,
   "input_path": "__notebook__.ipynb",
   "output_path": "__notebook__.ipynb",
   "parameters": {},
   "start_time": "2023-07-09T17:37:55.656497",
   "version": "2.4.0"
  }
 },
 "nbformat": 4,
 "nbformat_minor": 5
}
